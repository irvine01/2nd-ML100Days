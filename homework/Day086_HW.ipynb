{
 "cells": [
  {
   "cell_type": "markdown",
   "metadata": {},
   "source": [
    "## Work\n",
    "1. 試比較 save_best_only 與否的差異\n",
    "2. 請僅存入將 save_weights_only 設定為 True, 並嘗試 reset ipynb 並將模型與權重重新建回並預測 x_test"
   ]
  },
  {
   "cell_type": "code",
   "execution_count": 1,
   "metadata": {},
   "outputs": [
    {
     "name": "stderr",
     "output_type": "stream",
     "text": [
      "C:\\Users\\irvin\\Anaconda3\\envs\\tensorflow\\lib\\site-packages\\h5py\\__init__.py:36: FutureWarning: Conversion of the second argument of issubdtype from `float` to `np.floating` is deprecated. In future, it will be treated as `np.float64 == np.dtype(float).type`.\n",
      "  from ._conv import register_converters as _register_converters\n",
      "Using TensorFlow backend.\n"
     ]
    }
   ],
   "source": [
    "import os\n",
    "import keras\n",
    "\n",
    "# Disable GPU\n",
    "os.environ[\"CUDA_VISIBLE_DEVICES\"] = \"\""
   ]
  },
  {
   "cell_type": "code",
   "execution_count": 2,
   "metadata": {},
   "outputs": [],
   "source": [
    "train, test = keras.datasets.cifar10.load_data()"
   ]
  },
  {
   "cell_type": "code",
   "execution_count": 3,
   "metadata": {},
   "outputs": [],
   "source": [
    "## 資料前處理\n",
    "def preproc_x(x, flatten=True):\n",
    "    x = x / 255.\n",
    "    if flatten:\n",
    "        x = x.reshape((len(x), -1))\n",
    "    return x\n",
    "\n",
    "def preproc_y(y, num_classes=10):\n",
    "    if y.shape[-1] == 1:\n",
    "        y = keras.utils.to_categorical(y, num_classes)\n",
    "    return y    "
   ]
  },
  {
   "cell_type": "code",
   "execution_count": 4,
   "metadata": {},
   "outputs": [],
   "source": [
    "x_train, y_train = train\n",
    "x_test, y_test = test\n",
    "\n",
    "# Preproc the inputs\n",
    "x_train = preproc_x(x_train)\n",
    "x_test = preproc_x(x_test)\n",
    "\n",
    "# Preprc the outputs\n",
    "y_train = preproc_y(y_train)\n",
    "y_test = preproc_y(y_test)"
   ]
  },
  {
   "cell_type": "code",
   "execution_count": 5,
   "metadata": {},
   "outputs": [],
   "source": [
    "from keras.layers import BatchNormalization\n",
    "\n",
    "\"\"\"\n",
    "建立神經網路，並加入 BN layer\n",
    "\"\"\"\n",
    "def build_mlp(input_shape, output_units=10, num_neurons=[512, 256, 128]):\n",
    "    input_layer = keras.layers.Input(input_shape)\n",
    "    \n",
    "    for i, n_units in enumerate(num_neurons):\n",
    "        if i == 0:\n",
    "            x = keras.layers.Dense(units=n_units, \n",
    "                                   activation=\"relu\", \n",
    "                                   name=\"hidden_layer\"+str(i+1))(input_layer)\n",
    "            x = BatchNormalization()(x)\n",
    "        else:\n",
    "            x = keras.layers.Dense(units=n_units, \n",
    "                                   activation=\"relu\", \n",
    "                                   name=\"hidden_layer\"+str(i+1))(x)\n",
    "            x = BatchNormalization()(x)\n",
    "    \n",
    "    out = keras.layers.Dense(units=output_units, activation=\"softmax\", name=\"output\")(x)\n",
    "    \n",
    "    model = keras.models.Model(inputs=[input_layer], outputs=[out])\n",
    "    return model"
   ]
  },
  {
   "cell_type": "code",
   "execution_count": 6,
   "metadata": {},
   "outputs": [],
   "source": [
    "## 超參數設定\n",
    "LEARNING_RATE = 1e-3\n",
    "EPOCHS = 50\n",
    "BATCH_SIZE = 1024\n",
    "MOMENTUM = 0.95"
   ]
  },
  {
   "cell_type": "code",
   "execution_count": 38,
   "metadata": {},
   "outputs": [
    {
     "name": "stdout",
     "output_type": "stream",
     "text": [
      "_________________________________________________________________\n",
      "Layer (type)                 Output Shape              Param #   \n",
      "=================================================================\n",
      "input_3 (InputLayer)         (None, 3072)              0         \n",
      "_________________________________________________________________\n",
      "hidden_layer1 (Dense)        (None, 512)               1573376   \n",
      "_________________________________________________________________\n",
      "batch_normalization_7 (Batch (None, 512)               2048      \n",
      "_________________________________________________________________\n",
      "hidden_layer2 (Dense)        (None, 256)               131328    \n",
      "_________________________________________________________________\n",
      "batch_normalization_8 (Batch (None, 256)               1024      \n",
      "_________________________________________________________________\n",
      "hidden_layer3 (Dense)        (None, 128)               32896     \n",
      "_________________________________________________________________\n",
      "batch_normalization_9 (Batch (None, 128)               512       \n",
      "_________________________________________________________________\n",
      "output (Dense)               (None, 10)                1290      \n",
      "=================================================================\n",
      "Total params: 1,742,474\n",
      "Trainable params: 1,740,682\n",
      "Non-trainable params: 1,792\n",
      "_________________________________________________________________\n",
      "Train on 50000 samples, validate on 10000 samples\n",
      "Epoch 1/50\n",
      "50000/50000 [==============================] - 403s 8ms/step - loss: 2.1884 - acc: 0.2709 - val_loss: 2.0308 - val_acc: 0.3156\n",
      "Epoch 2/50\n",
      "50000/50000 [==============================] - 24s 488us/step - loss: 1.7397 - acc: 0.3928 - val_loss: 1.7955 - val_acc: 0.3748\n",
      "Epoch 3/50\n",
      "50000/50000 [==============================] - 26s 520us/step - loss: 1.6179 - acc: 0.4315 - val_loss: 1.6989 - val_acc: 0.4029\n",
      "Epoch 4/50\n",
      "50000/50000 [==============================] - 26s 522us/step - loss: 1.5448 - acc: 0.4591 - val_loss: 1.6254 - val_acc: 0.4254\n",
      "Epoch 5/50\n",
      "50000/50000 [==============================] - 26s 525us/step - loss: 1.4892 - acc: 0.4799 - val_loss: 1.5881 - val_acc: 0.4384\n",
      "Epoch 6/50\n",
      "50000/50000 [==============================] - 26s 522us/step - loss: 1.4427 - acc: 0.4975 - val_loss: 1.5608 - val_acc: 0.4495\n",
      "Epoch 7/50\n",
      "50000/50000 [==============================] - 26s 524us/step - loss: 1.4045 - acc: 0.5127 - val_loss: 1.5435 - val_acc: 0.4585\n",
      "Epoch 8/50\n",
      "50000/50000 [==============================] - 26s 522us/step - loss: 1.3682 - acc: 0.5224 - val_loss: 1.5437 - val_acc: 0.4644\n",
      "Epoch 9/50\n",
      "50000/50000 [==============================] - 26s 527us/step - loss: 1.3368 - acc: 0.5341 - val_loss: 1.5118 - val_acc: 0.4715\n",
      "Epoch 10/50\n",
      "50000/50000 [==============================] - 27s 536us/step - loss: 1.3071 - acc: 0.5467 - val_loss: 1.5124 - val_acc: 0.4682\n",
      "Epoch 11/50\n",
      "50000/50000 [==============================] - 29s 576us/step - loss: 1.2788 - acc: 0.5580 - val_loss: 1.4995 - val_acc: 0.4757\n",
      "Epoch 12/50\n",
      "50000/50000 [==============================] - 27s 533us/step - loss: 1.2532 - acc: 0.5661 - val_loss: 1.4841 - val_acc: 0.4748\n",
      "Epoch 13/50\n",
      "50000/50000 [==============================] - 26s 530us/step - loss: 1.2260 - acc: 0.5756 - val_loss: 1.4847 - val_acc: 0.4787\n",
      "Epoch 14/50\n",
      "50000/50000 [==============================] - 26s 530us/step - loss: 1.1990 - acc: 0.5859 - val_loss: 1.4769 - val_acc: 0.4824\n",
      "Epoch 15/50\n",
      "50000/50000 [==============================] - 26s 528us/step - loss: 1.1760 - acc: 0.5946 - val_loss: 1.4740 - val_acc: 0.4807\n",
      "Epoch 16/50\n",
      "50000/50000 [==============================] - 27s 532us/step - loss: 1.1524 - acc: 0.6030 - val_loss: 1.4696 - val_acc: 0.4828\n",
      "Epoch 17/50\n",
      "50000/50000 [==============================] - 26s 525us/step - loss: 1.1296 - acc: 0.6126 - val_loss: 1.4578 - val_acc: 0.4919\n",
      "Epoch 18/50\n",
      "50000/50000 [==============================] - 26s 530us/step - loss: 1.1063 - acc: 0.6220 - val_loss: 1.4592 - val_acc: 0.4884\n",
      "Epoch 19/50\n",
      "50000/50000 [==============================] - 27s 542us/step - loss: 1.0836 - acc: 0.6307 - val_loss: 1.4628 - val_acc: 0.4857\n",
      "Epoch 20/50\n",
      "50000/50000 [==============================] - 28s 564us/step - loss: 1.0635 - acc: 0.6385 - val_loss: 1.4625 - val_acc: 0.4885\n",
      "Epoch 21/50\n",
      "50000/50000 [==============================] - 25s 506us/step - loss: 1.0426 - acc: 0.6464 - val_loss: 1.4672 - val_acc: 0.4928\n",
      "Epoch 22/50\n",
      "50000/50000 [==============================] - 25s 491us/step - loss: 1.0213 - acc: 0.6535 - val_loss: 1.4643 - val_acc: 0.4881\n",
      "Epoch 23/50\n",
      "50000/50000 [==============================] - 25s 503us/step - loss: 0.9995 - acc: 0.6653 - val_loss: 1.4630 - val_acc: 0.4879\n",
      "Epoch 24/50\n",
      "50000/50000 [==============================] - 26s 516us/step - loss: 0.9781 - acc: 0.6722 - val_loss: 1.4867 - val_acc: 0.4831\n",
      "Epoch 25/50\n",
      "50000/50000 [==============================] - 25s 504us/step - loss: 0.9570 - acc: 0.6763 - val_loss: 1.4917 - val_acc: 0.4883\n",
      "Epoch 26/50\n",
      "50000/50000 [==============================] - 25s 494us/step - loss: 0.9362 - acc: 0.6891 - val_loss: 1.4749 - val_acc: 0.4919\n",
      "Epoch 27/50\n",
      "50000/50000 [==============================] - 25s 497us/step - loss: 0.9187 - acc: 0.6931 - val_loss: 1.4798 - val_acc: 0.4882\n",
      "Epoch 28/50\n",
      "50000/50000 [==============================] - 26s 515us/step - loss: 0.8972 - acc: 0.7022 - val_loss: 1.4801 - val_acc: 0.4920\n",
      "Epoch 29/50\n",
      "50000/50000 [==============================] - 25s 500us/step - loss: 0.8767 - acc: 0.7122 - val_loss: 1.4834 - val_acc: 0.4965\n",
      "Epoch 30/50\n",
      "50000/50000 [==============================] - 26s 511us/step - loss: 0.8582 - acc: 0.7180 - val_loss: 1.4836 - val_acc: 0.4936\n",
      "Epoch 31/50\n",
      "50000/50000 [==============================] - 25s 508us/step - loss: 0.8392 - acc: 0.7254 - val_loss: 1.5037 - val_acc: 0.4927\n",
      "Epoch 32/50\n",
      "50000/50000 [==============================] - 26s 521us/step - loss: 0.8178 - acc: 0.7349 - val_loss: 1.5118 - val_acc: 0.4878\n",
      "Epoch 33/50\n",
      "50000/50000 [==============================] - 28s 558us/step - loss: 0.7997 - acc: 0.7421 - val_loss: 1.5057 - val_acc: 0.4912\n",
      "Epoch 34/50\n",
      "50000/50000 [==============================] - 29s 579us/step - loss: 0.7799 - acc: 0.7491 - val_loss: 1.5153 - val_acc: 0.4903\n",
      "Epoch 35/50\n",
      "50000/50000 [==============================] - 27s 536us/step - loss: 0.7632 - acc: 0.7562 - val_loss: 1.5276 - val_acc: 0.4920\n",
      "Epoch 36/50\n",
      "50000/50000 [==============================] - 28s 554us/step - loss: 0.7445 - acc: 0.7623 - val_loss: 1.5434 - val_acc: 0.4881\n",
      "Epoch 37/50\n",
      "50000/50000 [==============================] - 25s 508us/step - loss: 0.7262 - acc: 0.7692 - val_loss: 1.5244 - val_acc: 0.4918\n",
      "Epoch 38/50\n",
      "50000/50000 [==============================] - 25s 497us/step - loss: 0.7084 - acc: 0.7762 - val_loss: 1.5496 - val_acc: 0.4901\n",
      "Epoch 39/50\n",
      "50000/50000 [==============================] - 25s 497us/step - loss: 0.6904 - acc: 0.7856 - val_loss: 1.5505 - val_acc: 0.4960\n",
      "Epoch 40/50\n",
      "50000/50000 [==============================] - 25s 510us/step - loss: 0.6694 - acc: 0.7927 - val_loss: 1.5686 - val_acc: 0.4918\n",
      "Epoch 41/50\n",
      "50000/50000 [==============================] - 26s 514us/step - loss: 0.6513 - acc: 0.8005 - val_loss: 1.5798 - val_acc: 0.4951\n",
      "Epoch 42/50\n",
      "50000/50000 [==============================] - 26s 517us/step - loss: 0.6343 - acc: 0.8084 - val_loss: 1.5950 - val_acc: 0.4883\n",
      "Epoch 43/50\n",
      "50000/50000 [==============================] - 25s 497us/step - loss: 0.6175 - acc: 0.8140 - val_loss: 1.6182 - val_acc: 0.4861\n",
      "Epoch 44/50\n",
      "50000/50000 [==============================] - 26s 524us/step - loss: 0.6002 - acc: 0.8189 - val_loss: 1.6099 - val_acc: 0.4948\n",
      "Epoch 45/50\n",
      "50000/50000 [==============================] - 25s 501us/step - loss: 0.5820 - acc: 0.8269 - val_loss: 1.6082 - val_acc: 0.4907\n",
      "Epoch 46/50\n",
      "50000/50000 [==============================] - 25s 497us/step - loss: 0.5640 - acc: 0.8339 - val_loss: 1.6194 - val_acc: 0.4933\n",
      "Epoch 47/50\n",
      "50000/50000 [==============================] - 25s 507us/step - loss: 0.5480 - acc: 0.8411 - val_loss: 1.6405 - val_acc: 0.4909\n",
      "Epoch 48/50\n",
      "50000/50000 [==============================] - 26s 519us/step - loss: 0.5308 - acc: 0.8479 - val_loss: 1.6626 - val_acc: 0.4932\n",
      "Epoch 49/50\n"
     ]
    },
    {
     "name": "stdout",
     "output_type": "stream",
     "text": [
      "50000/50000 [==============================] - 25s 499us/step - loss: 0.5152 - acc: 0.8539 - val_loss: 1.6597 - val_acc: 0.4884\n",
      "Epoch 50/50\n",
      "50000/50000 [==============================] - 25s 496us/step - loss: 0.4973 - acc: 0.8612 - val_loss: 1.6716 - val_acc: 0.4884\n"
     ]
    }
   ],
   "source": [
    "\"\"\"\n",
    "# 載入 Callbacks, 並將監控目標設為 validation loss, 且只存最佳參數時的模型\n",
    "\"\"\"\n",
    "from keras.callbacks import ModelCheckpoint\n",
    "\n",
    "model_ckpt = ModelCheckpoint(filepath=\"./tmp.h5\", \n",
    "                             monitor=\"val_loss\", \n",
    "                             save_weights_only=True)\n",
    "\n",
    "model = build_mlp(input_shape=x_train.shape[1:])\n",
    "model.summary()\n",
    "optimizer = keras.optimizers.SGD(lr=LEARNING_RATE, nesterov=True, momentum=MOMENTUM)\n",
    "model.compile(loss=\"categorical_crossentropy\", metrics=[\"accuracy\"], optimizer=optimizer)\n",
    "\n",
    "model.fit(x_train, y_train, \n",
    "          epochs=EPOCHS, \n",
    "          batch_size=BATCH_SIZE, \n",
    "          validation_data=(x_test, y_test), \n",
    "          shuffle=True,\n",
    "          callbacks=[model_ckpt]\n",
    "         )\n",
    "\n",
    "# Collect results\n",
    "train_loss = model.history.history[\"loss\"]\n",
    "valid_loss = model.history.history[\"val_loss\"]\n",
    "train_acc = model.history.history[\"acc\"]\n",
    "valid_acc= model.history.history[\"val_acc\"]\n"
   ]
  },
  {
   "cell_type": "code",
   "execution_count": 42,
   "metadata": {
    "scrolled": true
   },
   "outputs": [
    {
     "name": "stdout",
     "output_type": "stream",
     "text": [
      "_________________________________________________________________\n",
      "Layer (type)                 Output Shape              Param #   \n",
      "=================================================================\n",
      "input_3 (InputLayer)         (None, 3072)              0         \n",
      "_________________________________________________________________\n",
      "hidden_layer1 (Dense)        (None, 512)               1573376   \n",
      "_________________________________________________________________\n",
      "batch_normalization_7 (Batch (None, 512)               2048      \n",
      "_________________________________________________________________\n",
      "hidden_layer2 (Dense)        (None, 256)               131328    \n",
      "_________________________________________________________________\n",
      "batch_normalization_8 (Batch (None, 256)               1024      \n",
      "_________________________________________________________________\n",
      "hidden_layer3 (Dense)        (None, 128)               32896     \n",
      "_________________________________________________________________\n",
      "batch_normalization_9 (Batch (None, 128)               512       \n",
      "_________________________________________________________________\n",
      "output (Dense)               (None, 10)                1290      \n",
      "=================================================================\n",
      "Total params: 1,742,474\n",
      "Trainable params: 1,740,682\n",
      "Non-trainable params: 1,792\n",
      "_________________________________________________________________\n",
      "10000/10000 [==============================] - 5s 505us/step\n"
     ]
    }
   ],
   "source": [
    "# Load back\n",
    "#model = keras.models.load_model(\"./tmp.h5\")\n",
    "model.summary()\n",
    "model.load_weights(\"./tmp.h5\")\n",
    "loss_loadback, acc_loadback = model.evaluate(x_test, y_test)"
   ]
  },
  {
   "cell_type": "code",
   "execution_count": 43,
   "metadata": {},
   "outputs": [
    {
     "data": {
      "image/png": "[encoded data removed]",
      "text/plain": [
       "<Figure size 432x288 with 1 Axes>"
      ]
     },
     "metadata": {},
     "output_type": "display_data"
    },
    {
     "data": {
      "image/png": "[encoded data removed]",
      "text/plain": [
       "<Figure size 432x288 with 1 Axes>"
      ]
     },
     "metadata": {},
     "output_type": "display_data"
    }
   ],
   "source": [
    "import matplotlib.pyplot as plt\n",
    "%matplotlib inline\n",
    "\n",
    "plt.plot(range(len(train_loss)), train_loss, label=\"train loss\")\n",
    "plt.plot(range(len(valid_loss)), valid_loss, label=\"valid loss\")\n",
    "plt.hlines(y=loss_loadback, xmin=0, xmax=len(train_loss), colors='r', linestyles='--')\n",
    "plt.legend()\n",
    "plt.title(\"Loss\")\n",
    "plt.show()\n",
    "\n",
    "plt.plot(range(len(train_acc)), train_acc, label=\"train accuracy\")\n",
    "plt.plot(range(len(valid_acc)), valid_acc, label=\"valid accuracy\")\n",
    "plt.hlines(y=acc_loadback, xmin=0, xmax=len(train_loss), colors='r', linestyles='--')\n",
    "plt.legend()\n",
    "plt.title(\"Accuracy\")\n",
    "plt.show()"
   ]
  },
  {
   "cell_type": "code",
   "execution_count": 44,
   "metadata": {},
   "outputs": [
    {
     "name": "stdout",
     "output_type": "stream",
     "text": [
      "1.6715509056091309\n"
     ]
    }
   ],
   "source": [
    "print(loss_loadback)"
   ]
  },
  {
   "cell_type": "code",
   "execution_count": 45,
   "metadata": {},
   "outputs": [
    {
     "name": "stdout",
     "output_type": "stream",
     "text": [
      "0.4884\n"
     ]
    }
   ],
   "source": [
    "print(acc_loadback)"
   ]
  },
  {
   "cell_type": "code",
   "execution_count": null,
   "metadata": {},
   "outputs": [],
   "source": []
  }
 ],
 "metadata": {
  "kernelspec": {
   "display_name": "Python 3",
   "language": "python",
   "name": "python3"
  },
  "language_info": {
   "codemirror_mode": {
    "name": "ipython",
    "version": 3
   },
   "file_extension": ".py",
   "mimetype": "text/x-python",
   "name": "python",
   "nbconvert_exporter": "python",
   "pygments_lexer": "ipython3",
   "version": "3.6.5"
  }
 },
 "nbformat": 4,
 "nbformat_minor": 2
}
