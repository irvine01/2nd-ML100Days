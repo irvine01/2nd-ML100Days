{
 "cells": [
  {
   "cell_type": "markdown",
   "metadata": {},
   "source": [
    "## Work\n",
    "1. 請嘗試將 preproc_x 替換成以每筆資料的 min/max 進行標準化至 -1 ~ 1 間，再進行訓練\n",
    "2. 請嘗試將 mlp 疊更深 (e.g 5~10 層)，進行訓練後觀察 learning curve 的走勢\n",
    "3. (optional) 請改用 GPU 進行訓練 (如果你有 GPU 的話)，比較使用 CPU 與 GPU 的訓練速度"
   ]
  },
  {
   "cell_type": "code",
   "execution_count": 1,
   "metadata": {},
   "outputs": [
    {
     "name": "stderr",
     "output_type": "stream",
     "text": [
      "'nvidia-smi' 不是內部或外部命令、可執行的程式或批次檔。\n"
     ]
    }
   ],
   "source": [
    "## \n",
    "\"\"\"\n",
    "Your code here (optional)\n",
    "確認硬體資源\n",
    "\"\"\"\n",
    "## 確認硬體資源 (如果你是在 Linux, 若是在 Windows, 請參考 https://blog.csdn.net/idwtwt/article/details/78017565)\n",
    "!nvidia-smi"
   ]
  },
  {
   "cell_type": "code",
   "execution_count": 2,
   "metadata": {},
   "outputs": [
    {
     "name": "stderr",
     "output_type": "stream",
     "text": [
      "C:\\Users\\irvin\\Anaconda3\\envs\\tensorflow\\lib\\site-packages\\h5py\\__init__.py:36: FutureWarning: Conversion of the second argument of issubdtype from `float` to `np.floating` is deprecated. In future, it will be treated as `np.float64 == np.dtype(float).type`.\n",
      "  from ._conv import register_converters as _register_converters\n",
      "Using TensorFlow backend.\n"
     ]
    }
   ],
   "source": [
    "import os\n",
    "import keras\n",
    "\n",
    "# 請嘗試設定 GPU：os.environ\n",
    "# 本範例不需使用 GPU, 將 GPU 設定為 \"無\"\n",
    "os.environ[\"CUDA_VISIBLE_DEVICES\"] = \"\""
   ]
  },
  {
   "cell_type": "code",
   "execution_count": 3,
   "metadata": {},
   "outputs": [],
   "source": [
    "train, test = keras.datasets.cifar10.load_data()"
   ]
  },
  {
   "cell_type": "code",
   "execution_count": 4,
   "metadata": {},
   "outputs": [],
   "source": [
    "## 資料前處理\n",
    "\"\"\"\n",
    "Your code here\n",
    "\"\"\"\n",
    "#def preproc_x():\n",
    "#    pass\n",
    "\n",
    "#def preproc_y():\n",
    "#    pass\n",
    "\n",
    "def preproc_x(x, flatten=True):\n",
    "    x = x / 255.\n",
    "    if flatten:\n",
    "        x = x.reshape((len(x), -1))\n",
    "    return x\n",
    "\n",
    "def preproc_y(y, num_classes=10):\n",
    "    if y.shape[-1] == 1:\n",
    "        y = keras.utils.to_categorical(y, num_classes)\n",
    "    return y    "
   ]
  },
  {
   "cell_type": "code",
   "execution_count": 5,
   "metadata": {},
   "outputs": [],
   "source": [
    "x_train, y_train = train\n",
    "x_test, y_test = test\n",
    "\n",
    "# Preproc the inputs\n",
    "x_train = preproc_x(x_train)\n",
    "x_test = preproc_x(x_test)\n",
    "\n",
    "# Preprc the outputs\n",
    "y_train = preproc_y(y_train)\n",
    "y_test = preproc_y(y_test)"
   ]
  },
  {
   "cell_type": "code",
   "execution_count": 6,
   "metadata": {},
   "outputs": [
    {
     "name": "stdout",
     "output_type": "stream",
     "text": [
      "_________________________________________________________________\n",
      "Layer (type)                 Output Shape              Param #   \n",
      "=================================================================\n",
      "input_1 (InputLayer)         (None, 3072)              0         \n",
      "_________________________________________________________________\n",
      "hidden_layer1 (Dense)        (None, 512)               1573376   \n",
      "_________________________________________________________________\n",
      "hidden_layer2 (Dense)        (None, 256)               131328    \n",
      "_________________________________________________________________\n",
      "hidden_layer3 (Dense)        (None, 128)               32896     \n",
      "_________________________________________________________________\n",
      "hidden_layer4 (Dense)        (None, 128)               16512     \n",
      "_________________________________________________________________\n",
      "hidden_layer5 (Dense)        (None, 64)                8256      \n",
      "_________________________________________________________________\n",
      "output (Dense)               (None, 10)                650       \n",
      "=================================================================\n",
      "Total params: 1,763,018\n",
      "Trainable params: 1,763,018\n",
      "Non-trainable params: 0\n",
      "_________________________________________________________________\n"
     ]
    }
   ],
   "source": [
    "\"\"\"Code Here\n",
    "建立你的神經網路\n",
    "\"\"\"\n",
    "#def build_mlp():\n",
    "#    pass\n",
    "\n",
    "def build_mlp(input_shape, output_units=10, num_neurons=[512, 256, 128, 128, 64]):\n",
    "    input_layer = keras.layers.Input(input_shape)\n",
    "    \n",
    "    for i, n_units in enumerate(num_neurons):\n",
    "        if i == 0:\n",
    "            x = keras.layers.Dense(units=n_units, activation=\"relu\", name=\"hidden_layer\"+str(i+1))(input_layer)\n",
    "        else:\n",
    "            x = keras.layers.Dense(units=n_units, activation=\"relu\", name=\"hidden_layer\"+str(i+1))(x)\n",
    "    \n",
    "    out = keras.layers.Dense(units=output_units, activation=\"softmax\", name=\"output\")(x)\n",
    "    \n",
    "    model = keras.models.Model(inputs=[input_layer], outputs=[out])\n",
    "    return model\n",
    "\n",
    "model = build_mlp(input_shape=x_train.shape[1:])\n",
    "model.summary()"
   ]
  },
  {
   "cell_type": "code",
   "execution_count": 7,
   "metadata": {},
   "outputs": [],
   "source": [
    "## 超參數設定\n",
    "LEARNING_RATE = 0.001\n",
    "EPOCHS = 100\n",
    "BATCH_SIZE = 256"
   ]
  },
  {
   "cell_type": "code",
   "execution_count": 8,
   "metadata": {},
   "outputs": [],
   "source": [
    "optimizer = keras.optimizers.Adam(lr=LEARNING_RATE)\n",
    "model.compile(loss=\"categorical_crossentropy\", metrics=[\"accuracy\"], optimizer=optimizer)"
   ]
  },
  {
   "cell_type": "code",
   "execution_count": 9,
   "metadata": {},
   "outputs": [
    {
     "name": "stdout",
     "output_type": "stream",
     "text": [
      "Train on 50000 samples, validate on 10000 samples\n",
      "Epoch 1/100\n",
      "50000/50000 [==============================] - 40s 798us/step - loss: 1.9364 - acc: 0.2862 - val_loss: 1.7774 - val_acc: 0.3554\n",
      "Epoch 2/100\n",
      "50000/50000 [==============================] - 37s 738us/step - loss: 1.7277 - acc: 0.3796 - val_loss: 1.6766 - val_acc: 0.3964\n",
      "Epoch 3/100\n",
      "50000/50000 [==============================] - 35s 699us/step - loss: 1.6464 - acc: 0.4070 - val_loss: 1.6102 - val_acc: 0.4305\n",
      "Epoch 4/100\n",
      "50000/50000 [==============================] - 34s 679us/step - loss: 1.5736 - acc: 0.4365 - val_loss: 1.5364 - val_acc: 0.4484\n",
      "Epoch 5/100\n",
      "50000/50000 [==============================] - 35s 695us/step - loss: 1.5267 - acc: 0.4513 - val_loss: 1.5140 - val_acc: 0.4570\n",
      "Epoch 6/100\n",
      "50000/50000 [==============================] - 36s 713us/step - loss: 1.4848 - acc: 0.4685 - val_loss: 1.5109 - val_acc: 0.4688\n",
      "Epoch 7/100\n",
      "50000/50000 [==============================] - 37s 744us/step - loss: 1.4546 - acc: 0.4788 - val_loss: 1.5171 - val_acc: 0.4596\n",
      "Epoch 8/100\n",
      "50000/50000 [==============================] - 37s 744us/step - loss: 1.4246 - acc: 0.4928 - val_loss: 1.4861 - val_acc: 0.4727\n",
      "Epoch 9/100\n",
      "50000/50000 [==============================] - 36s 722us/step - loss: 1.3895 - acc: 0.5046 - val_loss: 1.4648 - val_acc: 0.4772\n",
      "Epoch 10/100\n",
      "50000/50000 [==============================] - 36s 716us/step - loss: 1.3697 - acc: 0.5092 - val_loss: 1.4965 - val_acc: 0.4684\n",
      "Epoch 11/100\n",
      "50000/50000 [==============================] - 37s 738us/step - loss: 1.3411 - acc: 0.5227 - val_loss: 1.4096 - val_acc: 0.5019\n",
      "Epoch 12/100\n",
      "50000/50000 [==============================] - 39s 783us/step - loss: 1.3140 - acc: 0.5322 - val_loss: 1.4120 - val_acc: 0.4984\n",
      "Epoch 13/100\n",
      "50000/50000 [==============================] - 38s 754us/step - loss: 1.2952 - acc: 0.5369 - val_loss: 1.4317 - val_acc: 0.4914\n",
      "Epoch 14/100\n",
      "50000/50000 [==============================] - 38s 762us/step - loss: 1.2691 - acc: 0.5473 - val_loss: 1.3919 - val_acc: 0.5080\n",
      "Epoch 15/100\n",
      "50000/50000 [==============================] - 38s 760us/step - loss: 1.2512 - acc: 0.5538 - val_loss: 1.4045 - val_acc: 0.4941\n",
      "Epoch 16/100\n",
      "50000/50000 [==============================] - 37s 732us/step - loss: 1.2253 - acc: 0.5633 - val_loss: 1.4446 - val_acc: 0.4980\n",
      "Epoch 17/100\n",
      "50000/50000 [==============================] - 36s 725us/step - loss: 1.1984 - acc: 0.5730 - val_loss: 1.4457 - val_acc: 0.4980\n",
      "Epoch 18/100\n",
      "50000/50000 [==============================] - 38s 754us/step - loss: 1.1816 - acc: 0.5768 - val_loss: 1.3836 - val_acc: 0.5132\n",
      "Epoch 19/100\n",
      "50000/50000 [==============================] - 36s 714us/step - loss: 1.1511 - acc: 0.5877 - val_loss: 1.3600 - val_acc: 0.5261\n",
      "Epoch 20/100\n",
      "50000/50000 [==============================] - 36s 726us/step - loss: 1.1288 - acc: 0.5952 - val_loss: 1.3716 - val_acc: 0.5239\n",
      "Epoch 21/100\n",
      "50000/50000 [==============================] - 37s 738us/step - loss: 1.1199 - acc: 0.5974 - val_loss: 1.3874 - val_acc: 0.5078\n",
      "Epoch 22/100\n",
      "50000/50000 [==============================] - 36s 725us/step - loss: 1.0918 - acc: 0.6084 - val_loss: 1.3801 - val_acc: 0.5187\n",
      "Epoch 23/100\n",
      "50000/50000 [==============================] - 35s 693us/step - loss: 1.0700 - acc: 0.6153 - val_loss: 1.4534 - val_acc: 0.5042\n",
      "Epoch 24/100\n",
      "50000/50000 [==============================] - 36s 719us/step - loss: 1.0501 - acc: 0.6225 - val_loss: 1.4221 - val_acc: 0.5188\n",
      "Epoch 25/100\n",
      "50000/50000 [==============================] - 38s 757us/step - loss: 1.0224 - acc: 0.6341 - val_loss: 1.3952 - val_acc: 0.5251\n",
      "Epoch 26/100\n",
      "50000/50000 [==============================] - 35s 698us/step - loss: 1.0063 - acc: 0.6401 - val_loss: 1.4542 - val_acc: 0.5158\n",
      "Epoch 27/100\n",
      "50000/50000 [==============================] - 36s 717us/step - loss: 0.9830 - acc: 0.6483 - val_loss: 1.4228 - val_acc: 0.5179\n",
      "Epoch 28/100\n",
      "50000/50000 [==============================] - 35s 700us/step - loss: 0.9739 - acc: 0.6494 - val_loss: 1.4973 - val_acc: 0.5101\n",
      "Epoch 29/100\n",
      "50000/50000 [==============================] - 38s 754us/step - loss: 0.9477 - acc: 0.6586 - val_loss: 1.4424 - val_acc: 0.5251\n",
      "Epoch 30/100\n",
      "50000/50000 [==============================] - 38s 758us/step - loss: 0.9265 - acc: 0.6678 - val_loss: 1.4398 - val_acc: 0.5217\n",
      "Epoch 31/100\n",
      "50000/50000 [==============================] - 38s 752us/step - loss: 0.9007 - acc: 0.6786 - val_loss: 1.4441 - val_acc: 0.5302\n",
      "Epoch 32/100\n",
      "50000/50000 [==============================] - 38s 760us/step - loss: 0.8869 - acc: 0.6821 - val_loss: 1.4905 - val_acc: 0.5141\n",
      "Epoch 33/100\n",
      "50000/50000 [==============================] - 37s 739us/step - loss: 0.8761 - acc: 0.6863 - val_loss: 1.4633 - val_acc: 0.5309\n",
      "Epoch 34/100\n",
      "50000/50000 [==============================] - 40s 793us/step - loss: 0.8532 - acc: 0.6939 - val_loss: 1.5372 - val_acc: 0.5132\n",
      "Epoch 35/100\n",
      "50000/50000 [==============================] - 38s 754us/step - loss: 0.8522 - acc: 0.6927 - val_loss: 1.5117 - val_acc: 0.5201\n",
      "Epoch 36/100\n",
      "50000/50000 [==============================] - 38s 757us/step - loss: 0.8102 - acc: 0.7095 - val_loss: 1.5581 - val_acc: 0.5182\n",
      "Epoch 37/100\n",
      "50000/50000 [==============================] - 38s 755us/step - loss: 0.8087 - acc: 0.7084 - val_loss: 1.6272 - val_acc: 0.5107\n",
      "Epoch 38/100\n",
      "50000/50000 [==============================] - 38s 752us/step - loss: 0.7810 - acc: 0.7203 - val_loss: 1.5582 - val_acc: 0.5275\n",
      "Epoch 39/100\n",
      "50000/50000 [==============================] - 38s 752us/step - loss: 0.7698 - acc: 0.7220 - val_loss: 1.5946 - val_acc: 0.5113\n",
      "Epoch 40/100\n",
      "50000/50000 [==============================] - 37s 749us/step - loss: 0.7566 - acc: 0.7301 - val_loss: 1.6434 - val_acc: 0.5134\n",
      "Epoch 41/100\n",
      "50000/50000 [==============================] - 37s 748us/step - loss: 0.7483 - acc: 0.7315 - val_loss: 1.6622 - val_acc: 0.5125\n",
      "Epoch 42/100\n",
      "50000/50000 [==============================] - 38s 757us/step - loss: 0.7183 - acc: 0.7404 - val_loss: 1.7126 - val_acc: 0.5143\n",
      "Epoch 43/100\n",
      "50000/50000 [==============================] - 38s 768us/step - loss: 0.7121 - acc: 0.7442 - val_loss: 1.6919 - val_acc: 0.5106\n",
      "Epoch 44/100\n",
      "50000/50000 [==============================] - 38s 769us/step - loss: 0.6958 - acc: 0.7500 - val_loss: 1.7880 - val_acc: 0.5149\n",
      "Epoch 45/100\n",
      "50000/50000 [==============================] - 38s 760us/step - loss: 0.6846 - acc: 0.7521 - val_loss: 1.7552 - val_acc: 0.5160\n",
      "Epoch 46/100\n",
      "50000/50000 [==============================] - 37s 747us/step - loss: 0.6687 - acc: 0.7582 - val_loss: 1.8232 - val_acc: 0.5102\n",
      "Epoch 47/100\n",
      "50000/50000 [==============================] - 38s 760us/step - loss: 0.6481 - acc: 0.7675 - val_loss: 1.7959 - val_acc: 0.5175\n",
      "Epoch 48/100\n",
      "50000/50000 [==============================] - 38s 770us/step - loss: 0.6414 - acc: 0.7688 - val_loss: 1.8447 - val_acc: 0.5104\n",
      "Epoch 49/100\n",
      "50000/50000 [==============================] - 39s 775us/step - loss: 0.6155 - acc: 0.7793 - val_loss: 1.8696 - val_acc: 0.5092\n",
      "Epoch 50/100\n",
      "50000/50000 [==============================] - 39s 784us/step - loss: 0.6139 - acc: 0.7784 - val_loss: 1.8670 - val_acc: 0.5096\n",
      "Epoch 51/100\n",
      "50000/50000 [==============================] - 39s 777us/step - loss: 0.6195 - acc: 0.7763 - val_loss: 1.8462 - val_acc: 0.5091\n",
      "Epoch 52/100\n",
      "50000/50000 [==============================] - 39s 776us/step - loss: 0.6010 - acc: 0.7825 - val_loss: 1.9196 - val_acc: 0.5105\n",
      "Epoch 53/100\n",
      "50000/50000 [==============================] - 39s 775us/step - loss: 0.5934 - acc: 0.7846 - val_loss: 1.9137 - val_acc: 0.5148\n",
      "Epoch 54/100\n",
      "50000/50000 [==============================] - 38s 756us/step - loss: 0.5661 - acc: 0.7966 - val_loss: 2.0534 - val_acc: 0.4995\n",
      "Epoch 55/100\n",
      "50000/50000 [==============================] - 38s 764us/step - loss: 0.5712 - acc: 0.7962 - val_loss: 1.9459 - val_acc: 0.5131\n",
      "Epoch 56/100\n",
      "50000/50000 [==============================] - 39s 777us/step - loss: 0.5398 - acc: 0.8044 - val_loss: 2.0458 - val_acc: 0.5083\n",
      "Epoch 57/100\n",
      "50000/50000 [==============================] - 39s 772us/step - loss: 0.5380 - acc: 0.8075 - val_loss: 2.0512 - val_acc: 0.5073\n",
      "Epoch 58/100\n",
      "50000/50000 [==============================] - 38s 768us/step - loss: 0.5388 - acc: 0.8081 - val_loss: 2.1359 - val_acc: 0.5044\n"
     ]
    },
    {
     "name": "stdout",
     "output_type": "stream",
     "text": [
      "Epoch 59/100\n",
      "50000/50000 [==============================] - 38s 755us/step - loss: 0.5130 - acc: 0.8164 - val_loss: 2.1781 - val_acc: 0.5120\n",
      "Epoch 60/100\n",
      "50000/50000 [==============================] - 39s 773us/step - loss: 0.5182 - acc: 0.8112 - val_loss: 2.1781 - val_acc: 0.5102\n",
      "Epoch 61/100\n",
      "50000/50000 [==============================] - 38s 770us/step - loss: 0.5024 - acc: 0.8181 - val_loss: 2.1733 - val_acc: 0.5130\n",
      "Epoch 62/100\n",
      "50000/50000 [==============================] - 39s 776us/step - loss: 0.5083 - acc: 0.8164 - val_loss: 2.2370 - val_acc: 0.5145\n",
      "Epoch 63/100\n",
      "50000/50000 [==============================] - 38s 763us/step - loss: 0.4900 - acc: 0.8235 - val_loss: 2.2996 - val_acc: 0.4976\n",
      "Epoch 64/100\n",
      "50000/50000 [==============================] - 38s 769us/step - loss: 0.4861 - acc: 0.8257 - val_loss: 2.2457 - val_acc: 0.4979\n",
      "Epoch 65/100\n",
      "50000/50000 [==============================] - 39s 787us/step - loss: 0.4815 - acc: 0.8266 - val_loss: 2.2340 - val_acc: 0.5061\n",
      "Epoch 66/100\n",
      "50000/50000 [==============================] - 39s 770us/step - loss: 0.4904 - acc: 0.8210 - val_loss: 2.3519 - val_acc: 0.5060\n",
      "Epoch 67/100\n",
      "50000/50000 [==============================] - 38s 769us/step - loss: 0.4661 - acc: 0.8315 - val_loss: 2.3474 - val_acc: 0.5122\n",
      "Epoch 68/100\n",
      "50000/50000 [==============================] - 38s 757us/step - loss: 0.4468 - acc: 0.8388 - val_loss: 2.3635 - val_acc: 0.4991\n",
      "Epoch 69/100\n",
      "50000/50000 [==============================] - 39s 770us/step - loss: 0.4445 - acc: 0.8389 - val_loss: 2.3324 - val_acc: 0.5067\n",
      "Epoch 70/100\n",
      "50000/50000 [==============================] - 38s 758us/step - loss: 0.4330 - acc: 0.8433 - val_loss: 2.3779 - val_acc: 0.5134\n",
      "Epoch 71/100\n",
      "50000/50000 [==============================] - 38s 753us/step - loss: 0.4240 - acc: 0.8468 - val_loss: 2.4446 - val_acc: 0.5005\n",
      "Epoch 72/100\n",
      "50000/50000 [==============================] - 38s 766us/step - loss: 0.4471 - acc: 0.8370 - val_loss: 2.4022 - val_acc: 0.5139\n",
      "Epoch 73/100\n",
      "50000/50000 [==============================] - 38s 753us/step - loss: 0.4195 - acc: 0.8487 - val_loss: 2.4924 - val_acc: 0.4986\n",
      "Epoch 74/100\n",
      "50000/50000 [==============================] - 39s 772us/step - loss: 0.4178 - acc: 0.8487 - val_loss: 2.6577 - val_acc: 0.4970s - loss: 0.4156 - a\n",
      "Epoch 75/100\n",
      "50000/50000 [==============================] - 38s 769us/step - loss: 0.4078 - acc: 0.8516 - val_loss: 2.6063 - val_acc: 0.4980\n",
      "Epoch 76/100\n",
      "50000/50000 [==============================] - 38s 763us/step - loss: 0.3911 - acc: 0.8585 - val_loss: 2.5078 - val_acc: 0.5056\n",
      "Epoch 77/100\n",
      "50000/50000 [==============================] - 38s 762us/step - loss: 0.4100 - acc: 0.8511 - val_loss: 2.5495 - val_acc: 0.5107\n",
      "Epoch 78/100\n",
      "50000/50000 [==============================] - 38s 753us/step - loss: 0.3748 - acc: 0.8642 - val_loss: 2.6230 - val_acc: 0.5024\n",
      "Epoch 79/100\n",
      "50000/50000 [==============================] - 38s 766us/step - loss: 0.3840 - acc: 0.8617 - val_loss: 2.6866 - val_acc: 0.4996\n",
      "Epoch 80/100\n",
      "50000/50000 [==============================] - 38s 768us/step - loss: 0.3820 - acc: 0.8602 - val_loss: 2.6470 - val_acc: 0.5048\n",
      "Epoch 81/100\n",
      "50000/50000 [==============================] - 39s 783us/step - loss: 0.3504 - acc: 0.8744 - val_loss: 2.6774 - val_acc: 0.5064\n",
      "Epoch 82/100\n",
      "50000/50000 [==============================] - 38s 764us/step - loss: 0.3790 - acc: 0.8637 - val_loss: 2.7403 - val_acc: 0.4941\n",
      "Epoch 83/100\n",
      "50000/50000 [==============================] - 38s 766us/step - loss: 0.3965 - acc: 0.8574 - val_loss: 2.8769 - val_acc: 0.4923\n",
      "Epoch 84/100\n",
      "50000/50000 [==============================] - 38s 764us/step - loss: 0.3702 - acc: 0.8668 - val_loss: 2.7476 - val_acc: 0.5005\n",
      "Epoch 85/100\n",
      "50000/50000 [==============================] - 38s 758us/step - loss: 0.3619 - acc: 0.8698 - val_loss: 2.7436 - val_acc: 0.4972\n",
      "Epoch 86/100\n",
      "50000/50000 [==============================] - 38s 767us/step - loss: 0.3649 - acc: 0.8682 - val_loss: 2.7884 - val_acc: 0.4975\n",
      "Epoch 87/100\n",
      "50000/50000 [==============================] - 41s 816us/step - loss: 0.3395 - acc: 0.8766 - val_loss: 2.8223 - val_acc: 0.5030\n",
      "Epoch 88/100\n",
      "50000/50000 [==============================] - 38s 761us/step - loss: 0.3607 - acc: 0.8701 - val_loss: 2.7849 - val_acc: 0.5074\n",
      "Epoch 89/100\n",
      "50000/50000 [==============================] - 37s 736us/step - loss: 0.3318 - acc: 0.8792 - val_loss: 2.9218 - val_acc: 0.5025\n",
      "Epoch 90/100\n",
      "50000/50000 [==============================] - 36s 723us/step - loss: 0.3359 - acc: 0.8796 - val_loss: 2.9285 - val_acc: 0.4992\n",
      "Epoch 91/100\n",
      "50000/50000 [==============================] - 35s 700us/step - loss: 0.3330 - acc: 0.8810 - val_loss: 2.8788 - val_acc: 0.4995\n",
      "Epoch 92/100\n",
      "50000/50000 [==============================] - 36s 728us/step - loss: 0.3358 - acc: 0.8775 - val_loss: 3.0672 - val_acc: 0.4931\n",
      "Epoch 93/100\n",
      "50000/50000 [==============================] - 39s 770us/step - loss: 0.3465 - acc: 0.8761 - val_loss: 2.9048 - val_acc: 0.5065\n",
      "Epoch 94/100\n",
      "50000/50000 [==============================] - 40s 800us/step - loss: 0.3215 - acc: 0.8849 - val_loss: 2.9881 - val_acc: 0.5017\n",
      "Epoch 95/100\n",
      "50000/50000 [==============================] - 36s 729us/step - loss: 0.3157 - acc: 0.8868 - val_loss: 3.0373 - val_acc: 0.4979\n",
      "Epoch 96/100\n",
      "50000/50000 [==============================] - 35s 703us/step - loss: 0.3213 - acc: 0.8842 - val_loss: 3.0262 - val_acc: 0.4987\n",
      "Epoch 97/100\n",
      "50000/50000 [==============================] - 38s 762us/step - loss: 0.2925 - acc: 0.8940 - val_loss: 3.0593 - val_acc: 0.4942\n",
      "Epoch 98/100\n",
      "50000/50000 [==============================] - 36s 726us/step - loss: 0.3264 - acc: 0.8837 - val_loss: 3.0187 - val_acc: 0.4970\n",
      "Epoch 99/100\n",
      "50000/50000 [==============================] - 35s 700us/step - loss: 0.3255 - acc: 0.8827 - val_loss: 3.1310 - val_acc: 0.5093\n",
      "Epoch 100/100\n",
      "50000/50000 [==============================] - 36s 714us/step - loss: 0.2959 - acc: 0.8932 - val_loss: 3.1741 - val_acc: 0.4980\n"
     ]
    },
    {
     "data": {
      "text/plain": [
       "<keras.callbacks.History at 0x1c4c3b72240>"
      ]
     },
     "execution_count": 9,
     "metadata": {},
     "output_type": "execute_result"
    }
   ],
   "source": [
    "model.fit(x_train, y_train, \n",
    "          epochs=EPOCHS, \n",
    "          batch_size=BATCH_SIZE, \n",
    "          validation_data=(x_test, y_test), \n",
    "          shuffle=True)"
   ]
  },
  {
   "cell_type": "code",
   "execution_count": 11,
   "metadata": {},
   "outputs": [
    {
     "data": {
      "image/png": "[encoded data removed]",
      "text/plain": [
       "<Figure size 432x288 with 1 Axes>"
      ]
     },
     "metadata": {},
     "output_type": "display_data"
    },
    {
     "data": {
      "image/png": "[encoded data removed]",
      "text/plain": [
       "<Figure size 432x288 with 1 Axes>"
      ]
     },
     "metadata": {},
     "output_type": "display_data"
    }
   ],
   "source": [
    "import matplotlib.pyplot as plt\n",
    "\n",
    "\n",
    "train_loss = model.history.history[\"loss\"]\n",
    "valid_loss = model.history.history[\"val_loss\"]\n",
    "\n",
    "train_acc = model.history.history[\"acc\"]\n",
    "valid_acc = model.history.history[\"val_acc\"]\n",
    "\n",
    "plt.plot(range(len(train_loss)), train_loss, label=\"train loss\")\n",
    "plt.plot(range(len(valid_loss)), valid_loss, label=\"valid loss\")\n",
    "plt.legend()\n",
    "plt.title(\"Loss\")\n",
    "plt.show()\n",
    "\n",
    "plt.plot(range(len(train_acc)), train_acc, label=\"train accuracy\")\n",
    "plt.plot(range(len(valid_acc)), valid_acc, label=\"valid accuracy\")\n",
    "plt.legend()\n",
    "plt.title(\"Accuracy\")\n",
    "plt.show()"
   ]
  },
  {
   "cell_type": "code",
   "execution_count": null,
   "metadata": {},
   "outputs": [],
   "source": []
  }
 ],
 "metadata": {
  "kernelspec": {
   "display_name": "Python 3",
   "language": "python",
   "name": "python3"
  },
  "language_info": {
   "codemirror_mode": {
    "name": "ipython",
    "version": 3
   },
   "file_extension": ".py",
   "mimetype": "text/x-python",
   "name": "python",
   "nbconvert_exporter": "python",
   "pygments_lexer": "ipython3",
   "version": "3.6.5"
  }
 },
 "nbformat": 4,
 "nbformat_minor": 2
}
