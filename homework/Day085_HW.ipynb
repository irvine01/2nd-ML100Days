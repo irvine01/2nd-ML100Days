{
 "cells": [
  {
   "cell_type": "markdown",
   "metadata": {},
   "source": [
    "## Work\n",
    "1. 試改變 monitor \"Validation Accuracy\" 並比較結果\n",
    "2. 調整 earlystop 的等待次數至 10, 25 並比較結果"
   ]
  },
  {
   "cell_type": "code",
   "execution_count": 1,
   "metadata": {},
   "outputs": [
    {
     "name": "stderr",
     "output_type": "stream",
     "text": [
      "C:\\Users\\irvin\\Anaconda3\\envs\\tensorflow\\lib\\site-packages\\h5py\\__init__.py:36: FutureWarning: Conversion of the second argument of issubdtype from `float` to `np.floating` is deprecated. In future, it will be treated as `np.float64 == np.dtype(float).type`.\n",
      "  from ._conv import register_converters as _register_converters\n",
      "Using TensorFlow backend.\n"
     ]
    }
   ],
   "source": [
    "import os\n",
    "import keras\n",
    "import matplotlib.pyplot as plt\n",
    "%matplotlib inline\n",
    "\n",
    "\n",
    "# Disable GPU\n",
    "os.environ[\"CUDA_VISIBLE_DEVICES\"] = \"\""
   ]
  },
  {
   "cell_type": "code",
   "execution_count": 2,
   "metadata": {},
   "outputs": [],
   "source": [
    "train, test = keras.datasets.cifar10.load_data()"
   ]
  },
  {
   "cell_type": "code",
   "execution_count": 3,
   "metadata": {},
   "outputs": [],
   "source": [
    "## 資料前處理\n",
    "def preproc_x(x, flatten=True):\n",
    "    x = x / 255.\n",
    "    if flatten:\n",
    "        x = x.reshape((len(x), -1))\n",
    "    return x\n",
    "\n",
    "def preproc_y(y, num_classes=10):\n",
    "    if y.shape[-1] == 1:\n",
    "        y = keras.utils.to_categorical(y, num_classes)\n",
    "    return y    "
   ]
  },
  {
   "cell_type": "code",
   "execution_count": 4,
   "metadata": {},
   "outputs": [],
   "source": [
    "x_train, y_train = train\n",
    "x_test, y_test = test\n",
    "\n",
    "# Preproc the inputs\n",
    "x_train = preproc_x(x_train)\n",
    "x_test = preproc_x(x_test)\n",
    "\n",
    "# Preprc the outputs\n",
    "y_train = preproc_y(y_train)\n",
    "y_test = preproc_y(y_test)"
   ]
  },
  {
   "cell_type": "code",
   "execution_count": 5,
   "metadata": {},
   "outputs": [],
   "source": [
    "from keras.layers import BatchNormalization\n",
    "\n",
    "\"\"\"\n",
    "建立神經網路，並加入 BN layer\n",
    "\"\"\"\n",
    "def build_mlp(input_shape, output_units=10, num_neurons=[512, 256, 128]):\n",
    "    input_layer = keras.layers.Input(input_shape)\n",
    "    \n",
    "    for i, n_units in enumerate(num_neurons):\n",
    "        if i == 0:\n",
    "            x = keras.layers.Dense(units=n_units, \n",
    "                                   activation=\"relu\", \n",
    "                                   name=\"hidden_layer\"+str(i+1))(input_layer)\n",
    "            x = BatchNormalization()(x)\n",
    "        else:\n",
    "            x = keras.layers.Dense(units=n_units, \n",
    "                                   activation=\"relu\", \n",
    "                                   name=\"hidden_layer\"+str(i+1))(x)\n",
    "            x = BatchNormalization()(x)\n",
    "    \n",
    "    out = keras.layers.Dense(units=output_units, activation=\"softmax\", name=\"output\")(x)\n",
    "    \n",
    "    model = keras.models.Model(inputs=[input_layer], outputs=[out])\n",
    "    return model"
   ]
  },
  {
   "cell_type": "code",
   "execution_count": 6,
   "metadata": {},
   "outputs": [],
   "source": [
    "## 超參數設定\n",
    "LEARNING_RATE = 1e-3\n",
    "EPOCHS = 50\n",
    "BATCH_SIZE = 1024\n",
    "MOMENTUM = 0.95"
   ]
  },
  {
   "cell_type": "code",
   "execution_count": 7,
   "metadata": {},
   "outputs": [
    {
     "name": "stdout",
     "output_type": "stream",
     "text": [
      "_________________________________________________________________\n",
      "Layer (type)                 Output Shape              Param #   \n",
      "=================================================================\n",
      "input_1 (InputLayer)         (None, 3072)              0         \n",
      "_________________________________________________________________\n",
      "hidden_layer1 (Dense)        (None, 512)               1573376   \n",
      "_________________________________________________________________\n",
      "batch_normalization_1 (Batch (None, 512)               2048      \n",
      "_________________________________________________________________\n",
      "hidden_layer2 (Dense)        (None, 256)               131328    \n",
      "_________________________________________________________________\n",
      "batch_normalization_2 (Batch (None, 256)               1024      \n",
      "_________________________________________________________________\n",
      "hidden_layer3 (Dense)        (None, 128)               32896     \n",
      "_________________________________________________________________\n",
      "batch_normalization_3 (Batch (None, 128)               512       \n",
      "_________________________________________________________________\n",
      "output (Dense)               (None, 10)                1290      \n",
      "=================================================================\n",
      "Total params: 1,742,474\n",
      "Trainable params: 1,740,682\n",
      "Non-trainable params: 1,792\n",
      "_________________________________________________________________\n",
      "Train on 50000 samples, validate on 10000 samples\n",
      "Epoch 1/50\n",
      "50000/50000 [==============================] - 44s 888us/step - loss: 2.2308 - acc: 0.2700 - val_loss: 2.2266 - val_acc: 0.3207\n",
      "Epoch 2/50\n",
      "50000/50000 [==============================] - 23s 468us/step - loss: 1.7455 - acc: 0.3922 - val_loss: 1.8362 - val_acc: 0.3901\n",
      "Epoch 3/50\n",
      "50000/50000 [==============================] - 25s 500us/step - loss: 1.6210 - acc: 0.4343 - val_loss: 1.6834 - val_acc: 0.4162\n",
      "Epoch 4/50\n",
      "50000/50000 [==============================] - 24s 479us/step - loss: 1.5496 - acc: 0.4577 - val_loss: 1.6339 - val_acc: 0.4358\n",
      "Epoch 5/50\n",
      "50000/50000 [==============================] - 28s 568us/step - loss: 1.4940 - acc: 0.4785 - val_loss: 1.5983 - val_acc: 0.4372\n",
      "Epoch 6/50\n",
      "50000/50000 [==============================] - 27s 542us/step - loss: 1.4494 - acc: 0.4921 - val_loss: 1.5668 - val_acc: 0.4564\n",
      "Epoch 7/50\n",
      "50000/50000 [==============================] - 25s 505us/step - loss: 1.4099 - acc: 0.5067 - val_loss: 1.5430 - val_acc: 0.4633\n",
      "Epoch 8/50\n",
      "50000/50000 [==============================] - 27s 535us/step - loss: 1.3724 - acc: 0.5215 - val_loss: 1.5376 - val_acc: 0.4681\n",
      "Epoch 9/50\n",
      "50000/50000 [==============================] - 29s 574us/step - loss: 1.3413 - acc: 0.5340 - val_loss: 1.5290 - val_acc: 0.4669\n",
      "Epoch 10/50\n",
      "50000/50000 [==============================] - 26s 525us/step - loss: 1.3108 - acc: 0.5443 - val_loss: 1.5085 - val_acc: 0.4717\n",
      "Epoch 11/50\n",
      "50000/50000 [==============================] - 25s 507us/step - loss: 1.2833 - acc: 0.5550 - val_loss: 1.5004 - val_acc: 0.4735\n",
      "Epoch 12/50\n",
      "50000/50000 [==============================] - 25s 507us/step - loss: 1.2548 - acc: 0.5647 - val_loss: 1.4741 - val_acc: 0.4835\n",
      "Epoch 13/50\n",
      "50000/50000 [==============================] - 26s 520us/step - loss: 1.2266 - acc: 0.5777 - val_loss: 1.4830 - val_acc: 0.4833\n",
      "Epoch 14/50\n",
      "50000/50000 [==============================] - 25s 493us/step - loss: 1.2020 - acc: 0.5849 - val_loss: 1.4668 - val_acc: 0.4914\n",
      "Epoch 15/50\n",
      "50000/50000 [==============================] - 26s 522us/step - loss: 1.1785 - acc: 0.5946 - val_loss: 1.4786 - val_acc: 0.4828\n",
      "Epoch 16/50\n",
      "50000/50000 [==============================] - 25s 505us/step - loss: 1.1558 - acc: 0.6032 - val_loss: 1.4662 - val_acc: 0.4870\n",
      "Epoch 17/50\n",
      "50000/50000 [==============================] - 25s 506us/step - loss: 1.1316 - acc: 0.6116 - val_loss: 1.4650 - val_acc: 0.4903\n",
      "Epoch 18/50\n",
      "50000/50000 [==============================] - 26s 529us/step - loss: 1.1104 - acc: 0.6204 - val_loss: 1.4706 - val_acc: 0.4853\n",
      "Epoch 19/50\n",
      "50000/50000 [==============================] - 25s 504us/step - loss: 1.0848 - acc: 0.6314 - val_loss: 1.4604 - val_acc: 0.4904\n",
      "Epoch 00019: early stopping\n"
     ]
    }
   ],
   "source": [
    "\"\"\"\n",
    "# 載入 Callbacks, 並將 monitor 設定為監控 validation loss\n",
    "\"\"\"\n",
    "from keras.callbacks import EarlyStopping\n",
    "\n",
    "earlystop = EarlyStopping(monitor=\"val_acc\", \n",
    "                          patience=5, \n",
    "                          verbose=1\n",
    "                          )\n",
    "\n",
    "model = build_mlp(input_shape=x_train.shape[1:])\n",
    "model.summary()\n",
    "optimizer = keras.optimizers.SGD(lr=LEARNING_RATE, nesterov=True, momentum=MOMENTUM)\n",
    "model.compile(loss=\"categorical_crossentropy\", metrics=[\"accuracy\"], optimizer=optimizer)\n",
    "\n",
    "model.fit(x_train, y_train, \n",
    "          epochs=EPOCHS, \n",
    "          batch_size=BATCH_SIZE, \n",
    "          validation_data=(x_test, y_test), \n",
    "          shuffle=True,\n",
    "          callbacks=[earlystop]\n",
    "         )\n",
    "\n",
    "# Collect results\n",
    "train_loss = model.history.history[\"loss\"]\n",
    "valid_loss = model.history.history[\"val_loss\"]\n",
    "train_acc = model.history.history[\"acc\"]\n",
    "valid_acc = model.history.history[\"val_acc\"]"
   ]
  },
  {
   "cell_type": "code",
   "execution_count": 8,
   "metadata": {},
   "outputs": [
    {
     "data": {
      "image/png": "[encoded data removed]",
      "text/plain": [
       "<Figure size 432x288 with 1 Axes>"
      ]
     },
     "metadata": {},
     "output_type": "display_data"
    },
    {
     "data": {
      "image/png": "[encoded data removed]",
      "text/plain": [
       "<Figure size 432x288 with 1 Axes>"
      ]
     },
     "metadata": {},
     "output_type": "display_data"
    }
   ],
   "source": [
    "import matplotlib.pyplot as plt\n",
    "%matplotlib inline\n",
    "\n",
    "plt.plot(range(len(train_loss)), train_loss, label=\"train loss\")\n",
    "plt.plot(range(len(valid_loss)), valid_loss, label=\"valid loss\")\n",
    "plt.legend()\n",
    "plt.title(\"Loss\")\n",
    "plt.show()\n",
    "\n",
    "plt.plot(range(len(train_acc)), train_acc, label=\"train accuracy\")\n",
    "plt.plot(range(len(valid_acc)), valid_acc, label=\"valid accuracy\")\n",
    "plt.legend()\n",
    "plt.title(\"Accuracy\")\n",
    "plt.show()"
   ]
  },
  {
   "cell_type": "code",
   "execution_count": 9,
   "metadata": {},
   "outputs": [
    {
     "name": "stdout",
     "output_type": "stream",
     "text": [
      "_________________________________________________________________\n",
      "Layer (type)                 Output Shape              Param #   \n",
      "=================================================================\n",
      "input_2 (InputLayer)         (None, 3072)              0         \n",
      "_________________________________________________________________\n",
      "hidden_layer1 (Dense)        (None, 512)               1573376   \n",
      "_________________________________________________________________\n",
      "batch_normalization_4 (Batch (None, 512)               2048      \n",
      "_________________________________________________________________\n",
      "hidden_layer2 (Dense)        (None, 256)               131328    \n",
      "_________________________________________________________________\n",
      "batch_normalization_5 (Batch (None, 256)               1024      \n",
      "_________________________________________________________________\n",
      "hidden_layer3 (Dense)        (None, 128)               32896     \n",
      "_________________________________________________________________\n",
      "batch_normalization_6 (Batch (None, 128)               512       \n",
      "_________________________________________________________________\n",
      "output (Dense)               (None, 10)                1290      \n",
      "=================================================================\n",
      "Total params: 1,742,474\n",
      "Trainable params: 1,740,682\n",
      "Non-trainable params: 1,792\n",
      "_________________________________________________________________\n",
      "Train on 50000 samples, validate on 10000 samples\n",
      "Epoch 1/50\n",
      "50000/50000 [==============================] - 31s 629us/step - loss: 2.2120 - acc: 0.2715 - val_loss: 2.1279 - val_acc: 0.3229\n",
      "Epoch 2/50\n",
      "50000/50000 [==============================] - 25s 505us/step - loss: 1.7358 - acc: 0.3969 - val_loss: 1.8065 - val_acc: 0.3887\n",
      "Epoch 3/50\n",
      "50000/50000 [==============================] - 25s 505us/step - loss: 1.6107 - acc: 0.4370 - val_loss: 1.6868 - val_acc: 0.4147\n",
      "Epoch 4/50\n",
      "50000/50000 [==============================] - 26s 513us/step - loss: 1.5389 - acc: 0.4624 - val_loss: 1.6374 - val_acc: 0.4277\n",
      "Epoch 5/50\n",
      "50000/50000 [==============================] - 25s 509us/step - loss: 1.4838 - acc: 0.4816 - val_loss: 1.5844 - val_acc: 0.4437\n",
      "Epoch 6/50\n",
      "50000/50000 [==============================] - 25s 497us/step - loss: 1.4398 - acc: 0.4979 - val_loss: 1.5670 - val_acc: 0.4525\n",
      "Epoch 7/50\n",
      "50000/50000 [==============================] - 27s 546us/step - loss: 1.4013 - acc: 0.5112 - val_loss: 1.5431 - val_acc: 0.4557\n",
      "Epoch 8/50\n",
      "50000/50000 [==============================] - 26s 511us/step - loss: 1.3666 - acc: 0.5223 - val_loss: 1.5244 - val_acc: 0.4607\n",
      "Epoch 9/50\n",
      "50000/50000 [==============================] - 27s 540us/step - loss: 1.3344 - acc: 0.5366 - val_loss: 1.5136 - val_acc: 0.4662\n",
      "Epoch 10/50\n",
      "50000/50000 [==============================] - 25s 510us/step - loss: 1.3032 - acc: 0.5460 - val_loss: 1.5097 - val_acc: 0.4714\n",
      "Epoch 11/50\n",
      "50000/50000 [==============================] - 26s 518us/step - loss: 1.2757 - acc: 0.5564 - val_loss: 1.4880 - val_acc: 0.4770\n",
      "Epoch 12/50\n",
      "50000/50000 [==============================] - 27s 541us/step - loss: 1.2491 - acc: 0.5678 - val_loss: 1.4736 - val_acc: 0.4830\n",
      "Epoch 13/50\n",
      "50000/50000 [==============================] - 27s 538us/step - loss: 1.2227 - acc: 0.5762 - val_loss: 1.4767 - val_acc: 0.4785\n",
      "Epoch 14/50\n",
      "50000/50000 [==============================] - 28s 558us/step - loss: 1.1989 - acc: 0.5846 - val_loss: 1.4720 - val_acc: 0.4831\n",
      "Epoch 15/50\n",
      "50000/50000 [==============================] - 27s 540us/step - loss: 1.1748 - acc: 0.5949 - val_loss: 1.4601 - val_acc: 0.4854\n",
      "Epoch 16/50\n",
      "50000/50000 [==============================] - 28s 560us/step - loss: 1.1525 - acc: 0.6018 - val_loss: 1.4552 - val_acc: 0.4860\n",
      "Epoch 17/50\n",
      "50000/50000 [==============================] - 27s 550us/step - loss: 1.1285 - acc: 0.6110 - val_loss: 1.4598 - val_acc: 0.4910\n",
      "Epoch 18/50\n",
      "50000/50000 [==============================] - 31s 613us/step - loss: 1.1060 - acc: 0.6186 - val_loss: 1.4494 - val_acc: 0.4897\n",
      "Epoch 19/50\n",
      "50000/50000 [==============================] - 27s 540us/step - loss: 1.0823 - acc: 0.6286 - val_loss: 1.4475 - val_acc: 0.4915\n",
      "Epoch 20/50\n",
      "50000/50000 [==============================] - 28s 553us/step - loss: 1.0616 - acc: 0.6390 - val_loss: 1.4479 - val_acc: 0.4900\n",
      "Epoch 21/50\n",
      "50000/50000 [==============================] - 27s 548us/step - loss: 1.0400 - acc: 0.6466 - val_loss: 1.4575 - val_acc: 0.4928\n",
      "Epoch 22/50\n",
      "50000/50000 [==============================] - 27s 543us/step - loss: 1.0187 - acc: 0.6540 - val_loss: 1.4444 - val_acc: 0.4998\n",
      "Epoch 23/50\n",
      "50000/50000 [==============================] - 28s 567us/step - loss: 0.9975 - acc: 0.6632 - val_loss: 1.4562 - val_acc: 0.4938\n",
      "Epoch 24/50\n",
      "50000/50000 [==============================] - 27s 545us/step - loss: 0.9768 - acc: 0.6703 - val_loss: 1.4518 - val_acc: 0.4931\n",
      "Epoch 25/50\n",
      "50000/50000 [==============================] - 28s 561us/step - loss: 0.9558 - acc: 0.6802 - val_loss: 1.4620 - val_acc: 0.4956\n",
      "Epoch 26/50\n",
      "50000/50000 [==============================] - 27s 540us/step - loss: 0.9366 - acc: 0.6859 - val_loss: 1.4636 - val_acc: 0.4961\n",
      "Epoch 27/50\n",
      "50000/50000 [==============================] - 28s 558us/step - loss: 0.9153 - acc: 0.6952 - val_loss: 1.4693 - val_acc: 0.4951\n",
      "Epoch 28/50\n",
      "50000/50000 [==============================] - 27s 543us/step - loss: 0.8958 - acc: 0.7018 - val_loss: 1.4763 - val_acc: 0.4961\n",
      "Epoch 29/50\n",
      "50000/50000 [==============================] - 28s 563us/step - loss: 0.8748 - acc: 0.7103 - val_loss: 1.4658 - val_acc: 0.5019\n",
      "Epoch 30/50\n",
      "50000/50000 [==============================] - 28s 565us/step - loss: 0.8548 - acc: 0.7180 - val_loss: 1.4700 - val_acc: 0.5005\n",
      "Epoch 31/50\n",
      "50000/50000 [==============================] - 31s 615us/step - loss: 0.8352 - acc: 0.7268 - val_loss: 1.4821 - val_acc: 0.5023\n",
      "Epoch 32/50\n",
      "50000/50000 [==============================] - 27s 537us/step - loss: 0.8141 - acc: 0.7352 - val_loss: 1.5056 - val_acc: 0.4930\n",
      "Epoch 33/50\n",
      "50000/50000 [==============================] - 26s 517us/step - loss: 0.7976 - acc: 0.7426 - val_loss: 1.5000 - val_acc: 0.4995\n",
      "Epoch 34/50\n",
      "50000/50000 [==============================] - 28s 557us/step - loss: 0.7772 - acc: 0.7489 - val_loss: 1.4975 - val_acc: 0.5004\n",
      "Epoch 35/50\n",
      "50000/50000 [==============================] - 27s 531us/step - loss: 0.7571 - acc: 0.7569 - val_loss: 1.5099 - val_acc: 0.5007\n",
      "Epoch 36/50\n",
      "50000/50000 [==============================] - 27s 548us/step - loss: 0.7400 - acc: 0.7629 - val_loss: 1.5213 - val_acc: 0.4961\n",
      "Epoch 37/50\n",
      "50000/50000 [==============================] - 27s 536us/step - loss: 0.7193 - acc: 0.7724 - val_loss: 1.5333 - val_acc: 0.4991\n",
      "Epoch 38/50\n",
      "50000/50000 [==============================] - 27s 545us/step - loss: 0.7026 - acc: 0.7790 - val_loss: 1.5307 - val_acc: 0.5019\n",
      "Epoch 39/50\n",
      "50000/50000 [==============================] - 29s 574us/step - loss: 0.6845 - acc: 0.7865 - val_loss: 1.5495 - val_acc: 0.4962\n",
      "Epoch 40/50\n",
      "50000/50000 [==============================] - 30s 594us/step - loss: 0.6642 - acc: 0.7951 - val_loss: 1.5612 - val_acc: 0.4966\n",
      "Epoch 41/50\n",
      "50000/50000 [==============================] - 27s 531us/step - loss: 0.6489 - acc: 0.8015 - val_loss: 1.5812 - val_acc: 0.4977\n",
      "Epoch 00041: early stopping\n"
     ]
    }
   ],
   "source": [
    "\"\"\"\n",
    "# 載入 Callbacks, 並將 monitor 設定為監控 validation loss\n",
    "\"\"\"\n",
    "from keras.callbacks import EarlyStopping\n",
    "\n",
    "earlystop = EarlyStopping(monitor=\"val_acc\", \n",
    "                          patience=10, \n",
    "                          verbose=1\n",
    "                          )\n",
    "\n",
    "model = build_mlp(input_shape=x_train.shape[1:])\n",
    "model.summary()\n",
    "optimizer = keras.optimizers.SGD(lr=LEARNING_RATE, nesterov=True, momentum=MOMENTUM)\n",
    "model.compile(loss=\"categorical_crossentropy\", metrics=[\"accuracy\"], optimizer=optimizer)\n",
    "\n",
    "model.fit(x_train, y_train, \n",
    "          epochs=EPOCHS, \n",
    "          batch_size=BATCH_SIZE, \n",
    "          validation_data=(x_test, y_test), \n",
    "          shuffle=True,\n",
    "          callbacks=[earlystop]\n",
    "         )\n",
    "\n",
    "# Collect results\n",
    "train_loss = model.history.history[\"loss\"]\n",
    "valid_loss = model.history.history[\"val_loss\"]\n",
    "train_acc = model.history.history[\"acc\"]\n",
    "valid_acc = model.history.history[\"val_acc\"]"
   ]
  },
  {
   "cell_type": "code",
   "execution_count": 10,
   "metadata": {},
   "outputs": [
    {
     "data": {
      "image/png": "[encoded data removed]",
      "text/plain": [
       "<Figure size 432x288 with 1 Axes>"
      ]
     },
     "metadata": {},
     "output_type": "display_data"
    },
    {
     "data": {
      "image/png": "[encoded data removed]",
      "text/plain": [
       "<Figure size 432x288 with 1 Axes>"
      ]
     },
     "metadata": {},
     "output_type": "display_data"
    }
   ],
   "source": [
    "import matplotlib.pyplot as plt\n",
    "%matplotlib inline\n",
    "\n",
    "plt.plot(range(len(train_loss)), train_loss, label=\"train loss\")\n",
    "plt.plot(range(len(valid_loss)), valid_loss, label=\"valid loss\")\n",
    "plt.legend()\n",
    "plt.title(\"Loss\")\n",
    "plt.show()\n",
    "\n",
    "plt.plot(range(len(train_acc)), train_acc, label=\"train accuracy\")\n",
    "plt.plot(range(len(valid_acc)), valid_acc, label=\"valid accuracy\")\n",
    "plt.legend()\n",
    "plt.title(\"Accuracy\")\n",
    "plt.show()"
   ]
  },
  {
   "cell_type": "code",
   "execution_count": null,
   "metadata": {},
   "outputs": [],
   "source": []
  }
 ],
 "metadata": {
  "kernelspec": {
   "display_name": "Python 3",
   "language": "python",
   "name": "python3"
  },
  "language_info": {
   "codemirror_mode": {
    "name": "ipython",
    "version": 3
   },
   "file_extension": ".py",
   "mimetype": "text/x-python",
   "name": "python",
   "nbconvert_exporter": "python",
   "pygments_lexer": "ipython3",
   "version": "3.6.5"
  }
 },
 "nbformat": 4,
 "nbformat_minor": 2
}
