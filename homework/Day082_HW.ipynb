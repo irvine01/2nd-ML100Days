{
 "cells": [
  {
   "cell_type": "markdown",
   "metadata": {},
   "source": [
    "## Work\n",
    "1. 請比較使用不同層數以及不同 Dropout rate 對訓練的效果\n",
    "2. 將 optimizer 改成使用 Adam 並加上適當的 dropout rate 檢視結果"
   ]
  },
  {
   "cell_type": "code",
   "execution_count": 1,
   "metadata": {},
   "outputs": [
    {
     "name": "stderr",
     "output_type": "stream",
     "text": [
      "C:\\Users\\irvin\\Anaconda3\\envs\\tensorflow\\lib\\site-packages\\h5py\\__init__.py:36: FutureWarning: Conversion of the second argument of issubdtype from `float` to `np.floating` is deprecated. In future, it will be treated as `np.float64 == np.dtype(float).type`.\n",
      "  from ._conv import register_converters as _register_converters\n",
      "Using TensorFlow backend.\n"
     ]
    }
   ],
   "source": [
    "import os\n",
    "import keras\n",
    "import itertools\n",
    "# Disable GPU\n",
    "os.environ[\"CUDA_VISIBLE_DEVICES\"] = \"\""
   ]
  },
  {
   "cell_type": "code",
   "execution_count": 2,
   "metadata": {},
   "outputs": [],
   "source": [
    "train, test = keras.datasets.cifar10.load_data()"
   ]
  },
  {
   "cell_type": "code",
   "execution_count": 3,
   "metadata": {},
   "outputs": [],
   "source": [
    "## 資料前處理\n",
    "def preproc_x(x, flatten=True):\n",
    "    x = x / 255.\n",
    "    if flatten:\n",
    "        x = x.reshape((len(x), -1))\n",
    "    return x\n",
    "\n",
    "def preproc_y(y, num_classes=10):\n",
    "    if y.shape[-1] == 1:\n",
    "        y = keras.utils.to_categorical(y, num_classes)\n",
    "    return y    "
   ]
  },
  {
   "cell_type": "code",
   "execution_count": 4,
   "metadata": {},
   "outputs": [],
   "source": [
    "x_train, y_train = train\n",
    "x_test, y_test = test\n",
    "\n",
    "# Preproc the inputs\n",
    "x_train = preproc_x(x_train)\n",
    "x_test = preproc_x(x_test)\n",
    "\n",
    "# Preprc the outputs\n",
    "y_train = preproc_y(y_train)\n",
    "y_test = preproc_y(y_test)"
   ]
  },
  {
   "cell_type": "code",
   "execution_count": 6,
   "metadata": {},
   "outputs": [],
   "source": [
    "from keras.layers import Dropout\n",
    "\n",
    "\"\"\"\n",
    "建立神經網路，並加入 dropout layer\n",
    "\"\"\"\n",
    "def build_mlp(input_shape, output_units=10, num_neurons=[512, 256, 128, 128], drp_ratio=0.3):\n",
    "    input_layer = keras.layers.Input(input_shape)\n",
    "    \n",
    "    for i, n_units in enumerate(num_neurons):\n",
    "        if i == 0:\n",
    "            x = keras.layers.Dense(units=n_units, \n",
    "                                   activation=\"relu\", \n",
    "                                   name=\"hidden_layer\"+str(i+1))(input_layer)\n",
    "            x = Dropout(drp_ratio)(x)\n",
    "        else:\n",
    "            x = keras.layers.Dense(units=n_units, \n",
    "                                   activation=\"relu\", \n",
    "                                   name=\"hidden_layer\"+str(i+1))(x)\n",
    "            x = Dropout(drp_ratio)(x)\n",
    "    \n",
    "    out = keras.layers.Dense(units=output_units, activation=\"softmax\", name=\"output\")(x)\n",
    "    \n",
    "    model = keras.models.Model(inputs=[input_layer], outputs=[out])\n",
    "    return model"
   ]
  },
  {
   "cell_type": "code",
   "execution_count": 7,
   "metadata": {},
   "outputs": [],
   "source": [
    "## 超參數設定\n",
    "LEARNING_RATE = 1e-3\n",
    "EPOCHS = 50\n",
    "BATCH_SIZE = 256\n",
    "MOMENTUM = 0.95\n",
    "Dropout_EXP = 0.25"
   ]
  },
  {
   "cell_type": "code",
   "execution_count": 8,
   "metadata": {
    "scrolled": true
   },
   "outputs": [
    {
     "name": "stdout",
     "output_type": "stream",
     "text": [
      "_________________________________________________________________\n",
      "Layer (type)                 Output Shape              Param #   \n",
      "=================================================================\n",
      "input_1 (InputLayer)         (None, 3072)              0         \n",
      "_________________________________________________________________\n",
      "hidden_layer1 (Dense)        (None, 512)               1573376   \n",
      "_________________________________________________________________\n",
      "dropout_1 (Dropout)          (None, 512)               0         \n",
      "_________________________________________________________________\n",
      "hidden_layer2 (Dense)        (None, 256)               131328    \n",
      "_________________________________________________________________\n",
      "dropout_2 (Dropout)          (None, 256)               0         \n",
      "_________________________________________________________________\n",
      "hidden_layer3 (Dense)        (None, 128)               32896     \n",
      "_________________________________________________________________\n",
      "dropout_3 (Dropout)          (None, 128)               0         \n",
      "_________________________________________________________________\n",
      "hidden_layer4 (Dense)        (None, 128)               16512     \n",
      "_________________________________________________________________\n",
      "dropout_4 (Dropout)          (None, 128)               0         \n",
      "_________________________________________________________________\n",
      "output (Dense)               (None, 10)                1290      \n",
      "=================================================================\n",
      "Total params: 1,755,402\n",
      "Trainable params: 1,755,402\n",
      "Non-trainable params: 0\n",
      "_________________________________________________________________\n",
      "Train on 50000 samples, validate on 10000 samples\n",
      "Epoch 1/50\n",
      "50000/50000 [==============================] - 107s 2ms/step - loss: 2.2242 - acc: 0.1671 - val_loss: 2.0499 - val_acc: 0.2603\n",
      "Epoch 2/50\n",
      "50000/50000 [==============================] - 30s 592us/step - loss: 2.0575 - acc: 0.2359 - val_loss: 1.9266 - val_acc: 0.3185\n",
      "Epoch 3/50\n",
      "50000/50000 [==============================] - 32s 640us/step - loss: 1.9665 - acc: 0.2750 - val_loss: 1.8516 - val_acc: 0.3382\n",
      "Epoch 4/50\n",
      "50000/50000 [==============================] - 34s 679us/step - loss: 1.9149 - acc: 0.2983 - val_loss: 1.8089 - val_acc: 0.3517\n",
      "Epoch 5/50\n",
      "50000/50000 [==============================] - 31s 614us/step - loss: 1.8738 - acc: 0.3199 - val_loss: 1.7632 - val_acc: 0.3697\n",
      "Epoch 6/50\n",
      "50000/50000 [==============================] - 32s 634us/step - loss: 1.8372 - acc: 0.3331 - val_loss: 1.7241 - val_acc: 0.3867\n",
      "Epoch 7/50\n",
      "50000/50000 [==============================] - 31s 624us/step - loss: 1.8075 - acc: 0.3457 - val_loss: 1.6868 - val_acc: 0.3971\n",
      "Epoch 8/50\n",
      "50000/50000 [==============================] - 31s 629us/step - loss: 1.7770 - acc: 0.3569 - val_loss: 1.6650 - val_acc: 0.4062\n",
      "Epoch 9/50\n",
      "50000/50000 [==============================] - 32s 645us/step - loss: 1.7537 - acc: 0.3662 - val_loss: 1.6464 - val_acc: 0.4089\n",
      "Epoch 10/50\n",
      "50000/50000 [==============================] - 31s 629us/step - loss: 1.7370 - acc: 0.3751 - val_loss: 1.6197 - val_acc: 0.4223\n",
      "Epoch 11/50\n",
      "50000/50000 [==============================] - 33s 653us/step - loss: 1.7147 - acc: 0.3799 - val_loss: 1.5991 - val_acc: 0.4305\n",
      "Epoch 12/50\n",
      "50000/50000 [==============================] - 33s 656us/step - loss: 1.6960 - acc: 0.3896 - val_loss: 1.5919 - val_acc: 0.4286\n",
      "Epoch 13/50\n",
      "50000/50000 [==============================] - 32s 650us/step - loss: 1.6766 - acc: 0.3954 - val_loss: 1.5790 - val_acc: 0.4401\n",
      "Epoch 14/50\n",
      "50000/50000 [==============================] - 33s 664us/step - loss: 1.6624 - acc: 0.4036 - val_loss: 1.5517 - val_acc: 0.4421\n",
      "Epoch 15/50\n",
      "50000/50000 [==============================] - 33s 662us/step - loss: 1.6427 - acc: 0.4091 - val_loss: 1.5391 - val_acc: 0.4510\n",
      "Epoch 16/50\n",
      "50000/50000 [==============================] - 31s 629us/step - loss: 1.6311 - acc: 0.4160 - val_loss: 1.5207 - val_acc: 0.4573\n",
      "Epoch 17/50\n",
      "50000/50000 [==============================] - 32s 630us/step - loss: 1.6166 - acc: 0.4200 - val_loss: 1.5185 - val_acc: 0.4523\n",
      "Epoch 18/50\n",
      "50000/50000 [==============================] - 33s 667us/step - loss: 1.5966 - acc: 0.4252 - val_loss: 1.4941 - val_acc: 0.4641\n",
      "Epoch 19/50\n",
      "50000/50000 [==============================] - 33s 661us/step - loss: 1.5886 - acc: 0.4326 - val_loss: 1.4912 - val_acc: 0.4671\n",
      "Epoch 20/50\n",
      "50000/50000 [==============================] - 32s 650us/step - loss: 1.5776 - acc: 0.4335 - val_loss: 1.4836 - val_acc: 0.4657\n",
      "Epoch 21/50\n",
      "50000/50000 [==============================] - 35s 701us/step - loss: 1.5657 - acc: 0.4380 - val_loss: 1.4750 - val_acc: 0.4704\n",
      "Epoch 22/50\n",
      "50000/50000 [==============================] - 34s 670us/step - loss: 1.5592 - acc: 0.4392 - val_loss: 1.4599 - val_acc: 0.4757\n",
      "Epoch 23/50\n",
      "50000/50000 [==============================] - 32s 643us/step - loss: 1.5455 - acc: 0.4464 - val_loss: 1.4555 - val_acc: 0.4815\n",
      "Epoch 24/50\n",
      "50000/50000 [==============================] - 33s 660us/step - loss: 1.5302 - acc: 0.4529 - val_loss: 1.4526 - val_acc: 0.4776\n",
      "Epoch 25/50\n",
      "50000/50000 [==============================] - 33s 661us/step - loss: 1.5220 - acc: 0.4523 - val_loss: 1.4394 - val_acc: 0.4799\n",
      "Epoch 26/50\n",
      "50000/50000 [==============================] - 34s 672us/step - loss: 1.5131 - acc: 0.4575 - val_loss: 1.4476 - val_acc: 0.4795\n",
      "Epoch 27/50\n",
      "50000/50000 [==============================] - 33s 664us/step - loss: 1.5025 - acc: 0.4614 - val_loss: 1.4333 - val_acc: 0.4880\n",
      "Epoch 28/50\n",
      "50000/50000 [==============================] - 34s 676us/step - loss: 1.4976 - acc: 0.4623 - val_loss: 1.4154 - val_acc: 0.4904\n",
      "Epoch 29/50\n",
      "50000/50000 [==============================] - 34s 671us/step - loss: 1.4896 - acc: 0.4667 - val_loss: 1.4241 - val_acc: 0.4855\n",
      "Epoch 30/50\n",
      "50000/50000 [==============================] - 33s 660us/step - loss: 1.4738 - acc: 0.4714 - val_loss: 1.4114 - val_acc: 0.4962\n",
      "Epoch 31/50\n",
      "50000/50000 [==============================] - 33s 659us/step - loss: 1.4681 - acc: 0.4739 - val_loss: 1.4108 - val_acc: 0.4917\n",
      "Epoch 32/50\n",
      "50000/50000 [==============================] - 33s 654us/step - loss: 1.4609 - acc: 0.4775 - val_loss: 1.4044 - val_acc: 0.4963\n",
      "Epoch 33/50\n",
      "50000/50000 [==============================] - 33s 655us/step - loss: 1.4522 - acc: 0.4764 - val_loss: 1.3934 - val_acc: 0.5034\n",
      "Epoch 34/50\n",
      "50000/50000 [==============================] - 33s 655us/step - loss: 1.4449 - acc: 0.4823 - val_loss: 1.3845 - val_acc: 0.5034\n",
      "Epoch 35/50\n",
      "50000/50000 [==============================] - 33s 660us/step - loss: 1.4360 - acc: 0.4845 - val_loss: 1.3883 - val_acc: 0.5058\n",
      "Epoch 36/50\n",
      "50000/50000 [==============================] - 33s 658us/step - loss: 1.4288 - acc: 0.4877 - val_loss: 1.3964 - val_acc: 0.5016\n",
      "Epoch 37/50\n",
      "50000/50000 [==============================] - 33s 658us/step - loss: 1.4250 - acc: 0.4895 - val_loss: 1.3851 - val_acc: 0.5021\n",
      "Epoch 38/50\n",
      "50000/50000 [==============================] - 33s 659us/step - loss: 1.4114 - acc: 0.4930 - val_loss: 1.3816 - val_acc: 0.5054\n",
      "Epoch 39/50\n",
      "50000/50000 [==============================] - 34s 686us/step - loss: 1.4076 - acc: 0.4963 - val_loss: 1.3739 - val_acc: 0.5084\n",
      "Epoch 40/50\n",
      "50000/50000 [==============================] - 34s 675us/step - loss: 1.4087 - acc: 0.4956 - val_loss: 1.3741 - val_acc: 0.5071\n",
      "Epoch 41/50\n",
      "50000/50000 [==============================] - 33s 662us/step - loss: 1.3907 - acc: 0.5037 - val_loss: 1.3632 - val_acc: 0.5128\n",
      "Epoch 42/50\n",
      "50000/50000 [==============================] - 33s 667us/step - loss: 1.3900 - acc: 0.5024 - val_loss: 1.3702 - val_acc: 0.5107\n",
      "Epoch 43/50\n",
      "50000/50000 [==============================] - 35s 691us/step - loss: 1.3850 - acc: 0.5034 - val_loss: 1.3613 - val_acc: 0.5145\n",
      "Epoch 44/50\n",
      "50000/50000 [==============================] - 34s 688us/step - loss: 1.3757 - acc: 0.5073 - val_loss: 1.3630 - val_acc: 0.5081\n",
      "Epoch 45/50\n",
      "50000/50000 [==============================] - 33s 661us/step - loss: 1.3724 - acc: 0.5095 - val_loss: 1.3488 - val_acc: 0.5168\n",
      "Epoch 46/50\n",
      "50000/50000 [==============================] - 32s 645us/step - loss: 1.3644 - acc: 0.5109 - val_loss: 1.3526 - val_acc: 0.5169\n",
      "Epoch 47/50\n"
     ]
    },
    {
     "name": "stdout",
     "output_type": "stream",
     "text": [
      "50000/50000 [==============================] - 32s 649us/step - loss: 1.3573 - acc: 0.5136 - val_loss: 1.3454 - val_acc: 0.5167\n",
      "Epoch 48/50\n",
      "50000/50000 [==============================] - 31s 629us/step - loss: 1.3485 - acc: 0.5173 - val_loss: 1.3385 - val_acc: 0.5214\n",
      "Epoch 49/50\n",
      "50000/50000 [==============================] - 31s 613us/step - loss: 1.3436 - acc: 0.5191 - val_loss: 1.3402 - val_acc: 0.5201\n",
      "Epoch 50/50\n",
      "50000/50000 [==============================] - 32s 641us/step - loss: 1.3373 - acc: 0.5222 - val_loss: 1.3400 - val_acc: 0.5212\n"
     ]
    }
   ],
   "source": [
    "model = build_mlp(input_shape=x_train.shape[1:], drp_ratio=Dropout_EXP)\n",
    "model.summary()\n",
    "optimizer = keras.optimizers.SGD(lr=LEARNING_RATE, nesterov=True, momentum=MOMENTUM)\n",
    "model.compile(loss=\"categorical_crossentropy\", metrics=[\"accuracy\"], optimizer=optimizer)\n",
    "\n",
    "model.fit(x_train, y_train, \n",
    "          epochs=EPOCHS, \n",
    "          batch_size=BATCH_SIZE, \n",
    "          validation_data=(x_test, y_test), \n",
    "          shuffle=True)\n",
    "\n",
    "# Collect results\n",
    "train_loss = model.history.history[\"loss\"]\n",
    "valid_loss = model.history.history[\"val_loss\"]\n",
    "train_acc = model.history.history[\"acc\"]\n",
    "valid_acc = model.history.history[\"val_acc\"]"
   ]
  },
  {
   "cell_type": "code",
   "execution_count": 9,
   "metadata": {},
   "outputs": [
    {
     "data": {
      "image/png": "[encoded data removed]",
      "text/plain": [
       "<Figure size 432x288 with 1 Axes>"
      ]
     },
     "metadata": {},
     "output_type": "display_data"
    },
    {
     "data": {
      "image/png": "[encoded data removed]",
      "text/plain": [
       "<Figure size 432x288 with 1 Axes>"
      ]
     },
     "metadata": {},
     "output_type": "display_data"
    }
   ],
   "source": [
    "import matplotlib.pyplot as plt\n",
    "%matplotlib inline\n",
    "\n",
    "plt.plot(range(len(train_loss)), train_loss, label=\"train loss\")\n",
    "plt.plot(range(len(valid_loss)), valid_loss, label=\"valid loss\")\n",
    "plt.legend()\n",
    "plt.title(\"Loss\")\n",
    "plt.show()\n",
    "\n",
    "plt.plot(range(len(train_acc)), train_acc, label=\"train accuracy\")\n",
    "plt.plot(range(len(valid_acc)), valid_acc, label=\"valid accuracy\")\n",
    "plt.legend()\n",
    "plt.title(\"Accuracy\")\n",
    "plt.show()"
   ]
  },
  {
   "cell_type": "code",
   "execution_count": 12,
   "metadata": {},
   "outputs": [
    {
     "name": "stdout",
     "output_type": "stream",
     "text": [
      "_________________________________________________________________\n",
      "Layer (type)                 Output Shape              Param #   \n",
      "=================================================================\n",
      "input_4 (InputLayer)         (None, 3072)              0         \n",
      "_________________________________________________________________\n",
      "hidden_layer1 (Dense)        (None, 512)               1573376   \n",
      "_________________________________________________________________\n",
      "dropout_13 (Dropout)         (None, 512)               0         \n",
      "_________________________________________________________________\n",
      "hidden_layer2 (Dense)        (None, 256)               131328    \n",
      "_________________________________________________________________\n",
      "dropout_14 (Dropout)         (None, 256)               0         \n",
      "_________________________________________________________________\n",
      "hidden_layer3 (Dense)        (None, 128)               32896     \n",
      "_________________________________________________________________\n",
      "dropout_15 (Dropout)         (None, 128)               0         \n",
      "_________________________________________________________________\n",
      "hidden_layer4 (Dense)        (None, 128)               16512     \n",
      "_________________________________________________________________\n",
      "dropout_16 (Dropout)         (None, 128)               0         \n",
      "_________________________________________________________________\n",
      "output (Dense)               (None, 10)                1290      \n",
      "=================================================================\n",
      "Total params: 1,755,402\n",
      "Trainable params: 1,755,402\n",
      "Non-trainable params: 0\n",
      "_________________________________________________________________\n",
      "Train on 50000 samples, validate on 10000 samples\n",
      "Epoch 1/50\n",
      "50000/50000 [==============================] - 81s 2ms/step - loss: 2.1147 - acc: 0.2037 - val_loss: 1.9360 - val_acc: 0.2817\n",
      "Epoch 2/50\n",
      "50000/50000 [==============================] - 35s 706us/step - loss: 1.9378 - acc: 0.2819 - val_loss: 1.8283 - val_acc: 0.3477\n",
      "Epoch 3/50\n",
      "50000/50000 [==============================] - 38s 755us/step - loss: 1.8817 - acc: 0.3061 - val_loss: 1.7739 - val_acc: 0.3659\n",
      "Epoch 4/50\n",
      "50000/50000 [==============================] - 37s 731us/step - loss: 1.8587 - acc: 0.3166 - val_loss: 1.7485 - val_acc: 0.3777\n",
      "Epoch 5/50\n",
      "50000/50000 [==============================] - 38s 752us/step - loss: 1.8282 - acc: 0.3294 - val_loss: 1.7427 - val_acc: 0.3755\n",
      "Epoch 6/50\n",
      "50000/50000 [==============================] - 38s 769us/step - loss: 1.8141 - acc: 0.3383 - val_loss: 1.7313 - val_acc: 0.3824\n",
      "Epoch 7/50\n",
      "50000/50000 [==============================] - 38s 755us/step - loss: 1.7902 - acc: 0.3516 - val_loss: 1.7045 - val_acc: 0.3979\n",
      "Epoch 8/50\n",
      "50000/50000 [==============================] - 38s 752us/step - loss: 1.7739 - acc: 0.3555 - val_loss: 1.7186 - val_acc: 0.3853\n",
      "Epoch 9/50\n",
      "50000/50000 [==============================] - 40s 790us/step - loss: 1.7685 - acc: 0.3574 - val_loss: 1.6777 - val_acc: 0.4034\n",
      "Epoch 10/50\n",
      "50000/50000 [==============================] - 39s 786us/step - loss: 1.7410 - acc: 0.3695 - val_loss: 1.6708 - val_acc: 0.4127\n",
      "Epoch 11/50\n",
      "50000/50000 [==============================] - 38s 765us/step - loss: 1.7297 - acc: 0.3727 - val_loss: 1.6563 - val_acc: 0.4169\n",
      "Epoch 12/50\n",
      "50000/50000 [==============================] - 37s 735us/step - loss: 1.7222 - acc: 0.3782 - val_loss: 1.6432 - val_acc: 0.4160\n",
      "Epoch 13/50\n",
      "50000/50000 [==============================] - 38s 763us/step - loss: 1.7121 - acc: 0.3828 - val_loss: 1.6404 - val_acc: 0.4231\n",
      "Epoch 14/50\n",
      "50000/50000 [==============================] - 38s 760us/step - loss: 1.7069 - acc: 0.3839 - val_loss: 1.6424 - val_acc: 0.4139\n",
      "Epoch 15/50\n",
      "50000/50000 [==============================] - 41s 822us/step - loss: 1.6993 - acc: 0.3850 - val_loss: 1.6026 - val_acc: 0.4323\n",
      "Epoch 16/50\n",
      "50000/50000 [==============================] - 38s 752us/step - loss: 1.6920 - acc: 0.3900 - val_loss: 1.6048 - val_acc: 0.4344\n",
      "Epoch 17/50\n",
      "50000/50000 [==============================] - 38s 757us/step - loss: 1.6791 - acc: 0.3930 - val_loss: 1.6185 - val_acc: 0.4135\n",
      "Epoch 18/50\n",
      "50000/50000 [==============================] - 37s 742us/step - loss: 1.6755 - acc: 0.3945 - val_loss: 1.5885 - val_acc: 0.4272\n",
      "Epoch 19/50\n",
      "50000/50000 [==============================] - 38s 754us/step - loss: 1.6633 - acc: 0.3999 - val_loss: 1.6331 - val_acc: 0.4285\n",
      "Epoch 20/50\n",
      "50000/50000 [==============================] - 38s 760us/step - loss: 1.6542 - acc: 0.4005 - val_loss: 1.5988 - val_acc: 0.4354\n",
      "Epoch 21/50\n",
      "50000/50000 [==============================] - 38s 750us/step - loss: 1.6534 - acc: 0.4036 - val_loss: 1.5876 - val_acc: 0.4296\n",
      "Epoch 22/50\n",
      "50000/50000 [==============================] - 39s 773us/step - loss: 1.6410 - acc: 0.4055 - val_loss: 1.5903 - val_acc: 0.4454\n",
      "Epoch 23/50\n",
      "50000/50000 [==============================] - 38s 757us/step - loss: 1.6460 - acc: 0.4040 - val_loss: 1.5921 - val_acc: 0.4406\n",
      "Epoch 24/50\n",
      "50000/50000 [==============================] - 39s 774us/step - loss: 1.6399 - acc: 0.4086 - val_loss: 1.6142 - val_acc: 0.4330\n",
      "Epoch 25/50\n",
      "50000/50000 [==============================] - 40s 796us/step - loss: 1.6382 - acc: 0.4086 - val_loss: 1.5674 - val_acc: 0.4441\n",
      "Epoch 26/50\n",
      "50000/50000 [==============================] - 40s 795us/step - loss: 1.6310 - acc: 0.4119 - val_loss: 1.6050 - val_acc: 0.4329\n",
      "Epoch 27/50\n",
      "50000/50000 [==============================] - 40s 798us/step - loss: 1.6293 - acc: 0.4111 - val_loss: 1.5533 - val_acc: 0.4418\n",
      "Epoch 28/50\n",
      "50000/50000 [==============================] - 40s 795us/step - loss: 1.6175 - acc: 0.4150 - val_loss: 1.5792 - val_acc: 0.4427\n",
      "Epoch 29/50\n",
      "50000/50000 [==============================] - 40s 798us/step - loss: 1.6181 - acc: 0.4157 - val_loss: 1.5305 - val_acc: 0.4566\n",
      "Epoch 30/50\n",
      "50000/50000 [==============================] - 41s 818us/step - loss: 1.6178 - acc: 0.4163 - val_loss: 1.5696 - val_acc: 0.4445\n",
      "Epoch 31/50\n",
      "50000/50000 [==============================] - 42s 848us/step - loss: 1.6166 - acc: 0.4157 - val_loss: 1.5566 - val_acc: 0.4488\n",
      "Epoch 32/50\n",
      "50000/50000 [==============================] - 40s 791us/step - loss: 1.6157 - acc: 0.4200 - val_loss: 1.5486 - val_acc: 0.4518\n",
      "Epoch 33/50\n",
      "50000/50000 [==============================] - 38s 767us/step - loss: 1.6020 - acc: 0.4213 - val_loss: 1.5532 - val_acc: 0.4481\n",
      "Epoch 34/50\n",
      "50000/50000 [==============================] - 37s 746us/step - loss: 1.6043 - acc: 0.4234 - val_loss: 1.5558 - val_acc: 0.4385\n",
      "Epoch 35/50\n",
      "50000/50000 [==============================] - 39s 774us/step - loss: 1.6064 - acc: 0.4221 - val_loss: 1.5836 - val_acc: 0.4388\n",
      "Epoch 36/50\n",
      "50000/50000 [==============================] - 38s 754us/step - loss: 1.5990 - acc: 0.4266 - val_loss: 1.5457 - val_acc: 0.4601\n",
      "Epoch 37/50\n",
      "50000/50000 [==============================] - 39s 771us/step - loss: 1.5960 - acc: 0.4276 - val_loss: 1.5546 - val_acc: 0.4504\n",
      "Epoch 38/50\n",
      "50000/50000 [==============================] - 38s 761us/step - loss: 1.5828 - acc: 0.4291 - val_loss: 1.5338 - val_acc: 0.4589\n",
      "Epoch 39/50\n",
      "50000/50000 [==============================] - 38s 767us/step - loss: 1.5871 - acc: 0.4269 - val_loss: 1.5474 - val_acc: 0.4578\n",
      "Epoch 40/50\n",
      "50000/50000 [==============================] - 39s 782us/step - loss: 1.5906 - acc: 0.4263 - val_loss: 1.5536 - val_acc: 0.4492\n",
      "Epoch 41/50\n",
      "50000/50000 [==============================] - 39s 774us/step - loss: 1.5880 - acc: 0.4281 - val_loss: 1.5287 - val_acc: 0.4611\n",
      "Epoch 42/50\n",
      "50000/50000 [==============================] - 38s 750us/step - loss: 1.5861 - acc: 0.4298 - val_loss: 1.5324 - val_acc: 0.4623\n",
      "Epoch 43/50\n",
      "50000/50000 [==============================] - 38s 752us/step - loss: 1.5822 - acc: 0.4302 - val_loss: 1.5264 - val_acc: 0.4632\n",
      "Epoch 44/50\n",
      "50000/50000 [==============================] - 40s 809us/step - loss: 1.5711 - acc: 0.4330 - val_loss: 1.5261 - val_acc: 0.4642\n",
      "Epoch 45/50\n",
      "50000/50000 [==============================] - 39s 776us/step - loss: 1.5750 - acc: 0.4315 - val_loss: 1.5403 - val_acc: 0.4592\n",
      "Epoch 46/50\n",
      "50000/50000 [==============================] - 41s 815us/step - loss: 1.5803 - acc: 0.4317 - val_loss: 1.5137 - val_acc: 0.4642\n",
      "Epoch 47/50\n"
     ]
    },
    {
     "name": "stdout",
     "output_type": "stream",
     "text": [
      "50000/50000 [==============================] - 36s 716us/step - loss: 1.5725 - acc: 0.4310 - val_loss: 1.5179 - val_acc: 0.4620\n",
      "Epoch 48/50\n",
      "50000/50000 [==============================] - 36s 722us/step - loss: 1.5696 - acc: 0.4339 - val_loss: 1.5201 - val_acc: 0.4660\n",
      "Epoch 49/50\n",
      "50000/50000 [==============================] - 37s 739us/step - loss: 1.5681 - acc: 0.4349 - val_loss: 1.5262 - val_acc: 0.4622\n",
      "Epoch 50/50\n",
      "50000/50000 [==============================] - 37s 731us/step - loss: 1.5632 - acc: 0.4365 - val_loss: 1.5163 - val_acc: 0.4617\n"
     ]
    }
   ],
   "source": [
    "model = build_mlp(input_shape=x_train.shape[1:], drp_ratio=Dropout_EXP)\n",
    "model.summary()\n",
    "optimizer = keras.optimizers.Adam(lr=LEARNING_RATE)\n",
    "model.compile(loss=\"categorical_crossentropy\", metrics=[\"accuracy\"], optimizer=optimizer)\n",
    "\n",
    "model.fit(x_train, y_train, \n",
    "          epochs=EPOCHS, \n",
    "          batch_size=BATCH_SIZE, \n",
    "          validation_data=(x_test, y_test), \n",
    "          shuffle=True)\n",
    "\n",
    "# Collect results\n",
    "train_loss = model.history.history[\"loss\"]\n",
    "valid_loss = model.history.history[\"val_loss\"]\n",
    "train_acc = model.history.history[\"acc\"]\n",
    "valid_acc = model.history.history[\"val_acc\"]"
   ]
  },
  {
   "cell_type": "code",
   "execution_count": 13,
   "metadata": {},
   "outputs": [
    {
     "data": {
      "image/png": "[encoded data removed]",
      "text/plain": [
       "<Figure size 432x288 with 1 Axes>"
      ]
     },
     "metadata": {},
     "output_type": "display_data"
    },
    {
     "data": {
      "image/png": "[encoded data removed]",
      "text/plain": [
       "<Figure size 432x288 with 1 Axes>"
      ]
     },
     "metadata": {},
     "output_type": "display_data"
    }
   ],
   "source": [
    "import matplotlib.pyplot as plt\n",
    "%matplotlib inline\n",
    "\n",
    "plt.plot(range(len(train_loss)), train_loss, label=\"train loss\")\n",
    "plt.plot(range(len(valid_loss)), valid_loss, label=\"valid loss\")\n",
    "plt.legend()\n",
    "plt.title(\"Loss\")\n",
    "plt.show()\n",
    "\n",
    "plt.plot(range(len(train_acc)), train_acc, label=\"train accuracy\")\n",
    "plt.plot(range(len(valid_acc)), valid_acc, label=\"valid accuracy\")\n",
    "plt.legend()\n",
    "plt.title(\"Accuracy\")\n",
    "plt.show()"
   ]
  },
  {
   "cell_type": "code",
   "execution_count": null,
   "metadata": {},
   "outputs": [],
   "source": []
  }
 ],
 "metadata": {
  "kernelspec": {
   "display_name": "Python 3",
   "language": "python",
   "name": "python3"
  },
  "language_info": {
   "codemirror_mode": {
    "name": "ipython",
    "version": 3
   },
   "file_extension": ".py",
   "mimetype": "text/x-python",
   "name": "python",
   "nbconvert_exporter": "python",
   "pygments_lexer": "ipython3",
   "version": "3.6.5"
  }
 },
 "nbformat": 4,
 "nbformat_minor": 2
}
