{
 "cells": [
  {
   "cell_type": "markdown",
   "metadata": {},
   "source": [
    "## Work\n",
    "1. 請將 Epoch 加到 500 個，並觀察 learning curve 的走勢\n",
    "2. 請將 Optimizer 換成 SGD，並觀察 learning curve 的走勢"
   ]
  },
  {
   "cell_type": "code",
   "execution_count": 1,
   "metadata": {},
   "outputs": [
    {
     "name": "stderr",
     "output_type": "stream",
     "text": [
      "C:\\Users\\irvin\\Anaconda3\\envs\\tensorflow\\lib\\site-packages\\h5py\\__init__.py:36: FutureWarning: Conversion of the second argument of issubdtype from `float` to `np.floating` is deprecated. In future, it will be treated as `np.float64 == np.dtype(float).type`.\n",
      "  from ._conv import register_converters as _register_converters\n",
      "Using TensorFlow backend.\n"
     ]
    }
   ],
   "source": [
    "import os\n",
    "import keras\n",
    "\n",
    "# 本作業可以不需使用 GPU, 將 GPU 設定為 \"無\" (若有 GPU 且想開啟，可設為 \"0\")\n",
    "os.environ[\"CUDA_VISIBLE_DEVICES\"] = \"\""
   ]
  },
  {
   "cell_type": "code",
   "execution_count": 2,
   "metadata": {},
   "outputs": [],
   "source": [
    "# 從 Keras 的內建功能中，取得 train 與 test 資料集\n",
    "train, test = keras.datasets.cifar10.load_data()"
   ]
  },
  {
   "cell_type": "code",
   "execution_count": 3,
   "metadata": {},
   "outputs": [],
   "source": [
    "# 將 X 與 Y 獨立放進變數\n",
    "x_train, y_train = train\n",
    "x_test, y_test = test\n",
    "# 資料前處理 - 標準化\n",
    "x_train = x_train / 255.\n",
    "x_test = x_test / 255.\n",
    "\n",
    "# 將資料從圖形 (RGB) 轉為向量 (Single Vector)\n",
    "x_train = x_train.reshape((len(x_train), -1))\n",
    "x_test = x_test.reshape((len(x_test), -1))\n",
    "\n",
    "# 將目標轉為 one-hot encoding\n",
    "y_train = keras.utils.to_categorical(y_train, num_classes=10)\n",
    "y_test = keras.utils.to_categorical(y_test, num_classes=10)"
   ]
  },
  {
   "cell_type": "code",
   "execution_count": 4,
   "metadata": {},
   "outputs": [],
   "source": [
    "def build_mlp():\n",
    "    \"\"\"Code Here\n",
    "    建立你的神經網路\n",
    "    \"\"\"\n",
    "    input_layer = keras.layers.Input([x_train.shape[-1]])\n",
    "    x = keras.layers.Dense(units=512, activation=\"relu\")(input_layer)\n",
    "    x = keras.layers.Dense(units=256, activation=\"relu\")(x)\n",
    "    x = keras.layers.Dense(units=128, activation=\"relu\")(x)\n",
    "    out = keras.layers.Dense(units=10, activation=\"softmax\")(x)\n",
    "    \n",
    "    model = keras.models.Model(inputs=[input_layer], outputs=[out])\n",
    "\n",
    "    return model\n",
    "model = build_mlp()"
   ]
  },
  {
   "cell_type": "code",
   "execution_count": 6,
   "metadata": {},
   "outputs": [
    {
     "name": "stdout",
     "output_type": "stream",
     "text": [
      "_________________________________________________________________\n",
      "Layer (type)                 Output Shape              Param #   \n",
      "=================================================================\n",
      "input_1 (InputLayer)         (None, 3072)              0         \n",
      "_________________________________________________________________\n",
      "dense_1 (Dense)              (None, 512)               1573376   \n",
      "_________________________________________________________________\n",
      "dense_2 (Dense)              (None, 256)               131328    \n",
      "_________________________________________________________________\n",
      "dense_3 (Dense)              (None, 128)               32896     \n",
      "_________________________________________________________________\n",
      "dense_4 (Dense)              (None, 10)                1290      \n",
      "=================================================================\n",
      "Total params: 1,738,890\n",
      "Trainable params: 1,738,890\n",
      "Non-trainable params: 0\n",
      "_________________________________________________________________\n"
     ]
    }
   ],
   "source": [
    "\"\"\"\n",
    "Compile 模型\n",
    "\"\"\"\n",
    "model.summary()\n",
    "\n",
    "#optimizer = keras.optimizers.Adam(lr=0.001)\n",
    "optimizer = keras.optimizers.SGD(lr=0.01)\n",
    "model.compile(loss=\"categorical_crossentropy\", metrics=[\"accuracy\"], optimizer=optimizer)"
   ]
  },
  {
   "cell_type": "code",
   "execution_count": 7,
   "metadata": {
    "scrolled": true
   },
   "outputs": [
    {
     "name": "stdout",
     "output_type": "stream",
     "text": [
      "Train on 50000 samples, validate on 10000 samples\n",
      "Epoch 1/100\n",
      "50000/50000 [==============================] - 31s 620us/step - loss: 2.0489 - acc: 0.2676 - val_loss: 1.9443 - val_acc: 0.3090\n",
      "Epoch 2/100\n",
      "50000/50000 [==============================] - 26s 517us/step - loss: 1.8726 - acc: 0.3370 - val_loss: 1.8718 - val_acc: 0.3297\n",
      "Epoch 3/100\n",
      "50000/50000 [==============================] - 26s 518us/step - loss: 1.8035 - acc: 0.3614 - val_loss: 1.7927 - val_acc: 0.3673\n",
      "Epoch 4/100\n",
      "50000/50000 [==============================] - 27s 539us/step - loss: 1.7589 - acc: 0.3796 - val_loss: 1.7375 - val_acc: 0.3902\n",
      "Epoch 5/100\n",
      "50000/50000 [==============================] - 26s 527us/step - loss: 1.7229 - acc: 0.3915 - val_loss: 1.7649 - val_acc: 0.3751\n",
      "Epoch 6/100\n",
      "50000/50000 [==============================] - 28s 552us/step - loss: 1.6935 - acc: 0.4021 - val_loss: 1.7468 - val_acc: 0.3631\n",
      "Epoch 7/100\n",
      "50000/50000 [==============================] - 27s 549us/step - loss: 1.6682 - acc: 0.4114 - val_loss: 1.7570 - val_acc: 0.3655\n",
      "Epoch 8/100\n",
      "50000/50000 [==============================] - 28s 564us/step - loss: 1.6466 - acc: 0.4179 - val_loss: 1.7164 - val_acc: 0.3950\n",
      "Epoch 9/100\n",
      "50000/50000 [==============================] - 27s 537us/step - loss: 1.6242 - acc: 0.4285 - val_loss: 1.6486 - val_acc: 0.4153\n",
      "Epoch 10/100\n",
      "50000/50000 [==============================] - 32s 631us/step - loss: 1.6086 - acc: 0.4328 - val_loss: 1.6556 - val_acc: 0.4176\n",
      "Epoch 11/100\n",
      "50000/50000 [==============================] - 28s 569us/step - loss: 1.5925 - acc: 0.4373 - val_loss: 1.6138 - val_acc: 0.4314\n",
      "Epoch 12/100\n",
      "50000/50000 [==============================] - 27s 542us/step - loss: 1.5764 - acc: 0.4460 - val_loss: 1.6466 - val_acc: 0.4073\n",
      "Epoch 13/100\n",
      "50000/50000 [==============================] - 28s 555us/step - loss: 1.5606 - acc: 0.4501 - val_loss: 1.5908 - val_acc: 0.4361\n",
      "Epoch 14/100\n",
      "50000/50000 [==============================] - 27s 550us/step - loss: 1.5423 - acc: 0.4576 - val_loss: 1.7277 - val_acc: 0.3823\n",
      "Epoch 15/100\n",
      "50000/50000 [==============================] - 28s 569us/step - loss: 1.5346 - acc: 0.4578 - val_loss: 1.6116 - val_acc: 0.4329\n",
      "Epoch 16/100\n",
      "50000/50000 [==============================] - 28s 550us/step - loss: 1.5184 - acc: 0.4659 - val_loss: 1.5730 - val_acc: 0.4362\n",
      "Epoch 17/100\n",
      "50000/50000 [==============================] - 29s 573us/step - loss: 1.5039 - acc: 0.4717 - val_loss: 1.5130 - val_acc: 0.4661\n",
      "Epoch 18/100\n",
      "50000/50000 [==============================] - 27s 545us/step - loss: 1.4967 - acc: 0.4711 - val_loss: 1.5868 - val_acc: 0.4363\n",
      "Epoch 19/100\n",
      "50000/50000 [==============================] - 28s 553us/step - loss: 1.4811 - acc: 0.4777 - val_loss: 1.5328 - val_acc: 0.4532\n",
      "Epoch 20/100\n",
      "50000/50000 [==============================] - 29s 584us/step - loss: 1.4716 - acc: 0.4820 - val_loss: 1.5130 - val_acc: 0.4621\n",
      "Epoch 21/100\n",
      "50000/50000 [==============================] - 27s 536us/step - loss: 1.4607 - acc: 0.4867 - val_loss: 1.5573 - val_acc: 0.4480\n",
      "Epoch 22/100\n",
      "50000/50000 [==============================] - 27s 548us/step - loss: 1.4488 - acc: 0.4907 - val_loss: 1.5171 - val_acc: 0.4554\n",
      "Epoch 23/100\n",
      "50000/50000 [==============================] - 27s 541us/step - loss: 1.4394 - acc: 0.4933 - val_loss: 1.4717 - val_acc: 0.4821\n",
      "Epoch 24/100\n",
      "50000/50000 [==============================] - 28s 550us/step - loss: 1.4297 - acc: 0.4984 - val_loss: 1.4976 - val_acc: 0.4598\n",
      "Epoch 25/100\n",
      "50000/50000 [==============================] - 28s 552us/step - loss: 1.4180 - acc: 0.5015 - val_loss: 1.5182 - val_acc: 0.4527\n",
      "Epoch 26/100\n",
      "50000/50000 [==============================] - 28s 559us/step - loss: 1.4072 - acc: 0.5025 - val_loss: 1.5333 - val_acc: 0.4494\n",
      "Epoch 27/100\n",
      "50000/50000 [==============================] - 28s 553us/step - loss: 1.4043 - acc: 0.5058 - val_loss: 1.6316 - val_acc: 0.4230\n",
      "Epoch 28/100\n",
      "50000/50000 [==============================] - 28s 566us/step - loss: 1.3949 - acc: 0.5092 - val_loss: 1.4860 - val_acc: 0.4714\n",
      "Epoch 29/100\n",
      "50000/50000 [==============================] - 28s 557us/step - loss: 1.3834 - acc: 0.5127 - val_loss: 1.7384 - val_acc: 0.4142\n",
      "Epoch 30/100\n",
      "50000/50000 [==============================] - 28s 562us/step - loss: 1.3733 - acc: 0.5155 - val_loss: 1.4875 - val_acc: 0.4666\n",
      "Epoch 31/100\n",
      "50000/50000 [==============================] - 28s 565us/step - loss: 1.3643 - acc: 0.5208 - val_loss: 1.5867 - val_acc: 0.4317\n",
      "Epoch 32/100\n",
      "50000/50000 [==============================] - 28s 556us/step - loss: 1.3588 - acc: 0.5242 - val_loss: 1.4897 - val_acc: 0.4660\n",
      "Epoch 33/100\n",
      "50000/50000 [==============================] - 28s 566us/step - loss: 1.3441 - acc: 0.5260 - val_loss: 1.6026 - val_acc: 0.4434\n",
      "Epoch 34/100\n",
      "50000/50000 [==============================] - 28s 561us/step - loss: 1.3427 - acc: 0.5291 - val_loss: 1.4181 - val_acc: 0.4931\n",
      "Epoch 35/100\n",
      "50000/50000 [==============================] - 28s 565us/step - loss: 1.3322 - acc: 0.5325 - val_loss: 1.4428 - val_acc: 0.4813\n",
      "Epoch 36/100\n",
      "50000/50000 [==============================] - 28s 558us/step - loss: 1.3258 - acc: 0.5348 - val_loss: 1.4258 - val_acc: 0.4957\n",
      "Epoch 37/100\n",
      "50000/50000 [==============================] - 28s 565us/step - loss: 1.3135 - acc: 0.5388 - val_loss: 1.3926 - val_acc: 0.5019\n",
      "Epoch 38/100\n",
      "50000/50000 [==============================] - 28s 562us/step - loss: 1.3120 - acc: 0.5393 - val_loss: 1.4260 - val_acc: 0.4925\n",
      "Epoch 39/100\n",
      "50000/50000 [==============================] - 29s 577us/step - loss: 1.3009 - acc: 0.5442 - val_loss: 1.4362 - val_acc: 0.4843\n",
      "Epoch 40/100\n",
      "50000/50000 [==============================] - 29s 572us/step - loss: 1.2989 - acc: 0.5435 - val_loss: 1.4119 - val_acc: 0.4991\n",
      "Epoch 41/100\n",
      "50000/50000 [==============================] - 33s 660us/step - loss: 1.2910 - acc: 0.5475 - val_loss: 1.4530 - val_acc: 0.4791\n",
      "Epoch 42/100\n",
      "50000/50000 [==============================] - 29s 583us/step - loss: 1.2774 - acc: 0.5523 - val_loss: 1.4398 - val_acc: 0.4914\n",
      "Epoch 43/100\n",
      "50000/50000 [==============================] - 28s 569us/step - loss: 1.2810 - acc: 0.5492 - val_loss: 1.6593 - val_acc: 0.4268\n",
      "Epoch 44/100\n",
      "50000/50000 [==============================] - 27s 547us/step - loss: 1.2635 - acc: 0.5559 - val_loss: 1.4107 - val_acc: 0.5015\n",
      "Epoch 45/100\n",
      "50000/50000 [==============================] - 27s 542us/step - loss: 1.2620 - acc: 0.5590 - val_loss: 1.4010 - val_acc: 0.5033\n",
      "Epoch 46/100\n",
      "50000/50000 [==============================] - 29s 571us/step - loss: 1.2583 - acc: 0.5580 - val_loss: 1.3858 - val_acc: 0.5009\n",
      "Epoch 47/100\n",
      "50000/50000 [==============================] - 27s 547us/step - loss: 1.2465 - acc: 0.5623 - val_loss: 1.4236 - val_acc: 0.4858\n",
      "Epoch 48/100\n",
      "50000/50000 [==============================] - 28s 563us/step - loss: 1.2425 - acc: 0.5623 - val_loss: 1.5262 - val_acc: 0.4665\n",
      "Epoch 49/100\n",
      "50000/50000 [==============================] - 28s 552us/step - loss: 1.2370 - acc: 0.5642 - val_loss: 1.4210 - val_acc: 0.4835\n",
      "Epoch 50/100\n",
      "50000/50000 [==============================] - 28s 560us/step - loss: 1.2304 - acc: 0.5687 - val_loss: 1.4450 - val_acc: 0.4924\n",
      "Epoch 51/100\n",
      "50000/50000 [==============================] - 27s 549us/step - loss: 1.2260 - acc: 0.5706 - val_loss: 1.4425 - val_acc: 0.4902\n",
      "Epoch 52/100\n",
      "50000/50000 [==============================] - 28s 568us/step - loss: 1.2137 - acc: 0.5739 - val_loss: 1.4154 - val_acc: 0.4880\n",
      "Epoch 53/100\n",
      "50000/50000 [==============================] - 28s 569us/step - loss: 1.2154 - acc: 0.5733 - val_loss: 1.5305 - val_acc: 0.4602\n",
      "Epoch 54/100\n",
      "50000/50000 [==============================] - 29s 571us/step - loss: 1.2028 - acc: 0.5781 - val_loss: 1.4053 - val_acc: 0.4955\n",
      "Epoch 55/100\n",
      "50000/50000 [==============================] - 28s 559us/step - loss: 1.2037 - acc: 0.5764 - val_loss: 1.4133 - val_acc: 0.4979\n",
      "Epoch 56/100\n",
      "50000/50000 [==============================] - 28s 557us/step - loss: 1.1923 - acc: 0.5822 - val_loss: 1.5405 - val_acc: 0.4643\n",
      "Epoch 57/100\n",
      "50000/50000 [==============================] - 29s 573us/step - loss: 1.1872 - acc: 0.5815 - val_loss: 1.3501 - val_acc: 0.5264\n",
      "Epoch 58/100\n",
      "50000/50000 [==============================] - 28s 567us/step - loss: 1.1767 - acc: 0.5866 - val_loss: 1.3735 - val_acc: 0.5078\n"
     ]
    },
    {
     "name": "stdout",
     "output_type": "stream",
     "text": [
      "Epoch 59/100\n",
      "50000/50000 [==============================] - 29s 572us/step - loss: 1.1751 - acc: 0.5888 - val_loss: 1.5298 - val_acc: 0.4686\n",
      "Epoch 60/100\n",
      "50000/50000 [==============================] - 28s 554us/step - loss: 1.1666 - acc: 0.5902 - val_loss: 1.3969 - val_acc: 0.5072\n",
      "Epoch 61/100\n",
      "50000/50000 [==============================] - 28s 561us/step - loss: 1.1596 - acc: 0.5929 - val_loss: 1.4038 - val_acc: 0.5009\n",
      "Epoch 62/100\n",
      "50000/50000 [==============================] - 29s 582us/step - loss: 1.1539 - acc: 0.5936 - val_loss: 1.4321 - val_acc: 0.4969\n",
      "Epoch 63/100\n",
      "50000/50000 [==============================] - 28s 566us/step - loss: 1.1522 - acc: 0.5967 - val_loss: 1.4219 - val_acc: 0.4975\n",
      "Epoch 64/100\n",
      "50000/50000 [==============================] - 28s 558us/step - loss: 1.1449 - acc: 0.5981 - val_loss: 1.4152 - val_acc: 0.4981\n",
      "Epoch 65/100\n",
      "50000/50000 [==============================] - 26s 527us/step - loss: 1.1411 - acc: 0.5974 - val_loss: 1.4581 - val_acc: 0.4963\n",
      "Epoch 66/100\n",
      "50000/50000 [==============================] - 26s 528us/step - loss: 1.1336 - acc: 0.6021 - val_loss: 1.4065 - val_acc: 0.4977\n",
      "Epoch 67/100\n",
      "50000/50000 [==============================] - 26s 515us/step - loss: 1.1323 - acc: 0.6032 - val_loss: 1.4264 - val_acc: 0.4990\n",
      "Epoch 68/100\n",
      "50000/50000 [==============================] - 27s 531us/step - loss: 1.1233 - acc: 0.6055 - val_loss: 1.5184 - val_acc: 0.4727\n",
      "Epoch 69/100\n",
      "50000/50000 [==============================] - 26s 523us/step - loss: 1.1180 - acc: 0.6069 - val_loss: 1.4654 - val_acc: 0.4897\n",
      "Epoch 70/100\n",
      "50000/50000 [==============================] - 27s 535us/step - loss: 1.1083 - acc: 0.6098 - val_loss: 1.5722 - val_acc: 0.4652\n",
      "Epoch 71/100\n",
      "50000/50000 [==============================] - 26s 520us/step - loss: 1.1051 - acc: 0.6119 - val_loss: 1.3704 - val_acc: 0.5132\n",
      "Epoch 72/100\n",
      "50000/50000 [==============================] - 27s 534us/step - loss: 1.1101 - acc: 0.6101 - val_loss: 1.4248 - val_acc: 0.5051\n",
      "Epoch 73/100\n",
      "50000/50000 [==============================] - 27s 531us/step - loss: 1.0902 - acc: 0.6179 - val_loss: 1.4423 - val_acc: 0.5020\n",
      "Epoch 74/100\n",
      "50000/50000 [==============================] - 26s 520us/step - loss: 1.0861 - acc: 0.6192 - val_loss: 1.4495 - val_acc: 0.4984\n",
      "Epoch 75/100\n",
      "50000/50000 [==============================] - 27s 530us/step - loss: 1.0845 - acc: 0.6180 - val_loss: 1.3456 - val_acc: 0.5267\n",
      "Epoch 76/100\n",
      "50000/50000 [==============================] - 28s 553us/step - loss: 1.0764 - acc: 0.6218 - val_loss: 1.3751 - val_acc: 0.5146\n",
      "Epoch 77/100\n",
      "50000/50000 [==============================] - 28s 562us/step - loss: 1.0701 - acc: 0.6236 - val_loss: 1.5090 - val_acc: 0.4753\n",
      "Epoch 78/100\n",
      "50000/50000 [==============================] - 28s 554us/step - loss: 1.0681 - acc: 0.6264 - val_loss: 1.4055 - val_acc: 0.5054\n",
      "Epoch 79/100\n",
      "50000/50000 [==============================] - 31s 613us/step - loss: 1.0616 - acc: 0.6269 - val_loss: 1.3532 - val_acc: 0.5257\n",
      "Epoch 80/100\n",
      "50000/50000 [==============================] - 26s 530us/step - loss: 1.0571 - acc: 0.6298 - val_loss: 1.3763 - val_acc: 0.5123\n",
      "Epoch 81/100\n",
      "50000/50000 [==============================] - 27s 542us/step - loss: 1.0548 - acc: 0.6318 - val_loss: 1.3906 - val_acc: 0.5117\n",
      "Epoch 82/100\n",
      "50000/50000 [==============================] - 26s 527us/step - loss: 1.0388 - acc: 0.6356 - val_loss: 1.4121 - val_acc: 0.4956\n",
      "Epoch 83/100\n",
      "50000/50000 [==============================] - 27s 539us/step - loss: 1.0361 - acc: 0.6364 - val_loss: 1.3259 - val_acc: 0.5332\n",
      "Epoch 84/100\n",
      "50000/50000 [==============================] - 29s 590us/step - loss: 1.0411 - acc: 0.6350 - val_loss: 1.5459 - val_acc: 0.4808\n",
      "Epoch 85/100\n",
      "50000/50000 [==============================] - 27s 531us/step - loss: 1.0258 - acc: 0.6394 - val_loss: 1.4941 - val_acc: 0.4874\n",
      "Epoch 86/100\n",
      "50000/50000 [==============================] - 27s 545us/step - loss: 1.0229 - acc: 0.6431 - val_loss: 1.6031 - val_acc: 0.4636\n",
      "Epoch 87/100\n",
      "50000/50000 [==============================] - 27s 535us/step - loss: 1.0164 - acc: 0.6438 - val_loss: 1.3366 - val_acc: 0.5289\n",
      "Epoch 88/100\n",
      "50000/50000 [==============================] - 28s 558us/step - loss: 1.0145 - acc: 0.6453 - val_loss: 1.3814 - val_acc: 0.5178\n",
      "Epoch 89/100\n",
      "50000/50000 [==============================] - 27s 531us/step - loss: 1.0012 - acc: 0.6455 - val_loss: 1.5365 - val_acc: 0.4770\n",
      "Epoch 90/100\n",
      "50000/50000 [==============================] - 27s 547us/step - loss: 1.0010 - acc: 0.6511 - val_loss: 1.4781 - val_acc: 0.4958\n",
      "Epoch 91/100\n",
      "50000/50000 [==============================] - 28s 568us/step - loss: 0.9959 - acc: 0.6507 - val_loss: 1.3848 - val_acc: 0.5129\n",
      "Epoch 92/100\n",
      "50000/50000 [==============================] - 28s 568us/step - loss: 0.9939 - acc: 0.6510 - val_loss: 1.4805 - val_acc: 0.4911\n",
      "Epoch 93/100\n",
      "50000/50000 [==============================] - 29s 573us/step - loss: 0.9802 - acc: 0.6585 - val_loss: 1.3812 - val_acc: 0.5196\n",
      "Epoch 94/100\n",
      "50000/50000 [==============================] - 28s 565us/step - loss: 0.9777 - acc: 0.6586 - val_loss: 1.4201 - val_acc: 0.5126\n",
      "Epoch 95/100\n",
      "50000/50000 [==============================] - 28s 570us/step - loss: 0.9766 - acc: 0.6587 - val_loss: 1.3867 - val_acc: 0.5204\n",
      "Epoch 96/100\n",
      "50000/50000 [==============================] - 28s 565us/step - loss: 0.9700 - acc: 0.6618 - val_loss: 1.4831 - val_acc: 0.4934\n",
      "Epoch 97/100\n",
      "50000/50000 [==============================] - 29s 573us/step - loss: 0.9613 - acc: 0.6644 - val_loss: 1.3955 - val_acc: 0.5219\n",
      "Epoch 98/100\n",
      "50000/50000 [==============================] - 30s 593us/step - loss: 0.9630 - acc: 0.6620 - val_loss: 1.3894 - val_acc: 0.5099\n",
      "Epoch 99/100\n",
      "50000/50000 [==============================] - 28s 565us/step - loss: 0.9563 - acc: 0.6655 - val_loss: 1.3412 - val_acc: 0.5299\n",
      "Epoch 100/100\n",
      "50000/50000 [==============================] - 28s 567us/step - loss: 0.9481 - acc: 0.6672 - val_loss: 1.3232 - val_acc: 0.5387\n"
     ]
    },
    {
     "data": {
      "text/plain": [
       "<keras.callbacks.History at 0x1510b280ac8>"
      ]
     },
     "execution_count": 7,
     "metadata": {},
     "output_type": "execute_result"
    }
   ],
   "source": [
    "\"\"\"\n",
    "設定要訓練的 Epoch 數\n",
    "\"\"\"\n",
    "model.fit(x_train, y_train, \n",
    "          epochs=100, \n",
    "          batch_size=256, \n",
    "          validation_data=(x_test, y_test), \n",
    "          shuffle=True)"
   ]
  },
  {
   "cell_type": "code",
   "execution_count": 9,
   "metadata": {},
   "outputs": [
    {
     "data": {
      "image/png": "[encoded data removed]",
      "text/plain": [
       "<Figure size 432x288 with 1 Axes>"
      ]
     },
     "metadata": {},
     "output_type": "display_data"
    },
    {
     "data": {
      "image/png": "[encoded data removed]",
      "text/plain": [
       "<Figure size 432x288 with 1 Axes>"
      ]
     },
     "metadata": {},
     "output_type": "display_data"
    }
   ],
   "source": [
    "import matplotlib.pyplot as plt\n",
    "# 以視覺畫方式檢視訓練過程\n",
    "\n",
    "train_loss = model.history.history[\"loss\"]\n",
    "valid_loss = model.history.history[\"val_loss\"]\n",
    "\n",
    "train_acc = model.history.history[\"acc\"]\n",
    "valid_acc = model.history.history[\"val_acc\"]\n",
    "\n",
    "plt.plot(range(len(train_loss)), train_loss, label=\"train loss\")\n",
    "plt.plot(range(len(valid_loss)), valid_loss, label=\"valid loss\")\n",
    "plt.legend()\n",
    "plt.title(\"Loss\")\n",
    "plt.show()\n",
    "\n",
    "plt.plot(range(len(train_acc)), train_acc, label=\"train accuracy\")\n",
    "plt.plot(range(len(valid_acc)), valid_acc, label=\"valid accuracy\")\n",
    "plt.legend()\n",
    "plt.title(\"Accuracy\")\n",
    "plt.show()"
   ]
  },
  {
   "cell_type": "code",
   "execution_count": null,
   "metadata": {},
   "outputs": [],
   "source": []
  }
 ],
 "metadata": {
  "kernelspec": {
   "display_name": "Python 3",
   "language": "python",
   "name": "python3"
  },
  "language_info": {
   "codemirror_mode": {
    "name": "ipython",
    "version": 3
   },
   "file_extension": ".py",
   "mimetype": "text/x-python",
   "name": "python",
   "nbconvert_exporter": "python",
   "pygments_lexer": "ipython3",
   "version": "3.6.5"
  }
 },
 "nbformat": 4,
 "nbformat_minor": 2
}
